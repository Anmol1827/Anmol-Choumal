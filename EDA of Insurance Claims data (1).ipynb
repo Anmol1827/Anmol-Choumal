{
 "cells": [
  {
   "cell_type": "markdown",
   "metadata": {
    "id": "-gAAMRv1n99O"
   },
   "source": [
    "## Problem Statement\n",
    "A key challenge for the insurance industry is to charge each customer an appropriate premium for the risk they represent. The ability to predict a correct claim amount has a significant impact on insurer's management decisions and financial statements. Predicting the cost of claims in an insurance company is a real-life problem that needs to be solved in a more accurate and automated way. Several factors determine the cost of claims based on health factors like BMI, age, smoker, health conditions and others. Insurance companies apply numerous techniques for analyzing and predicting health insurance costs"
   ]
  },
  {
   "cell_type": "markdown",
   "metadata": {
    "id": "9sSmSGoWn99P"
   },
   "source": [
    "## Data Definition\n",
    "\n",
    "**age** : Age of the policyholder (Numeric)\n",
    "\n",
    "**sex:** Gender of policyholder (Categoric)\n",
    "\n",
    "**weight:** Weight of the policyholder (Numeric)\n",
    "\n",
    "**bmi**: Body mass index, providing an understanding of body, weights that are relatively high or low relative to height, objective index of body weight (kg / m ^ 2) using the ratio of height to weight (Numeric)\n",
    "\n",
    "**no_of_dependents:** Number of dependent persons on the policyholder (Numeric)\n",
    "\n",
    "**smoker:** Indicates policyholder is a smoker or a non-smoker (non-smoker=0;smoker=1) (Categoric)\n",
    "\n",
    "**claim:** The amount claimed by the policyholder (Numeric)\n",
    "\n",
    "**bloodpressure:** Bloodpressure reading of policyholder (Numeric)\n",
    "\n",
    "**diabetes:** Indicates policyholder suffers from diabetes or not (non-diabetic=0; diabetic=1) (Categoric)\n",
    "\n",
    "**regular_ex:** A policyholder regularly excercises or not (no-excercise=0; excercise=1) (Categoric)\n",
    "\n",
    "**job_title:** Job profile of the policyholder (Categoric)\n",
    "\n",
    "**city:** The city in which the policyholder resides (Categoric)\n",
    "\n",
    "**hereditary_diseases:**  A policyholder suffering from a hereditary diseases or not (Categoric)"
   ]
  },
  {
   "cell_type": "markdown",
   "metadata": {
    "id": "DVeo2YIbn99R"
   },
   "source": [
    "## Table of Contents\n",
    "\n",
    "1. **[Import Libraries](#import_lib)**\n",
    "2. **[Set Options](#set_options)**\n",
    "3. **[Read Data](#Read_Data)**\n",
    "4. **[Data Analysis and Preparation](#data_preparation)**\n",
    "    - 4.1 - [Understand the Data](#Data_Understanding)\n",
    "        - 4.1.1 - [Data Dimension](#Data_Shape)\n",
    "        - 4.1.2 - [Data Types](#Data_Types)\n",
    "        - 4.1.3 - [Summary Statistics](#Summary_Statistics)\n",
    "        - 4.1.4 - [Missing Values](#Missing_Values)\n",
    "        - 4.1.5 - [Correlation](#correlation)\n",
    "        - 4.1.6 - [Analyze Categorical Variables](#categorical)\n",
    "        - 4.1.7 - [Analyze Relationships Between Target and Categorical Variables](#categorical_numerical)\n",
    "        - 4.1.8 - [Feature Engineering](#Feature_Engineering)\n",
    "        - 4.1.9 - [Discover Outliers](#outliers)\n",
    "        - 4.1.10- [Recheck the Correlation](#Recheck_Correlation)\n",
    "    - 4.2 - [Prepare the Data](#Data_Preparation)\n",
    "        - 4.2.1 - [Check for Normality](#Normality)\n",
    "        - 4.2.2 - [One-Way Anova](#one_way_anova)\n",
    "        - 4.2.3 - [Dummy Encoding of Categorical Variables](#dummy)"
   ]
  },
  {
   "cell_type": "markdown",
   "metadata": {
    "id": "YtFokd7-n99S"
   },
   "source": [
    "<a id='import_lib'></a>\n",
    "## 1. Import Libraries"
   ]
  },
  {
   "cell_type": "markdown",
   "metadata": {
    "id": "WEv6VkM_n99T"
   },
   "source": [
    "**Let us import the required libraries and functions**"
   ]
  },
  {
   "cell_type": "code",
   "execution_count": 13,
   "metadata": {
    "id": "3dS_gqE0n99T"
   },
   "outputs": [],
   "source": [
    "# supress warnings \n",
    "from warnings import filterwarnings\n",
    "filterwarnings('ignore')\n",
    "\n",
    "# 'Os' module provides functions for interacting with the operating system \n",
    "import os\n",
    "\n",
    "# 'Pandas' is used for data manipulation and analysis\n",
    "import pandas as pd \n",
    "\n",
    "# 'Numpy' is used for mathematical operations on large, multi-dimensional arrays and matrices\n",
    "import numpy as np\n",
    "\n",
    "# 'Matplotlib' is a data visualization library for 2D and 3D plots, built on numpy\n",
    "import matplotlib.pyplot as plt\n",
    "%matplotlib inline\n",
    "\n",
    "# 'Seaborn' is based on matplotlib; used for plotting statistical graphics\n",
    "import seaborn as sns\n",
    "\n",
    "# 'Scikit-learn' (sklearn) emphasizes various regression, classification and clustering algorithms\n",
    "from sklearn.model_selection import train_test_split\n",
    "from sklearn.metrics import mean_squared_error, mean_absolute_error, r2_score\n",
    "from sklearn.model_selection import GridSearchCV\n",
    "from sklearn.linear_model import ElasticNet\n",
    "\n",
    "# 'Statsmodels' is used to build and analyze various statistical models\n",
    "import statsmodels\n",
    "import statsmodels.api as sm\n",
    "import statsmodels.stats.api as sms\n",
    "from statsmodels.tools.eval_measures import rmse\n",
    "from statsmodels.compat import lzip\n",
    "from statsmodels.graphics.gofplots import ProbPlot\n",
    "\n",
    "# 'SciPy' is used to perform scientific computations\n",
    "from scipy.stats import f_oneway\n",
    "from scipy.stats import jarque_bera\n",
    "from scipy import stats"
   ]
  },
  {
   "cell_type": "markdown",
   "metadata": {
    "id": "uOSXkyD9n99V"
   },
   "source": [
    "<a id='set_options'></a>\n",
    "## 2. Set Options"
   ]
  },
  {
   "cell_type": "code",
   "execution_count": 14,
   "metadata": {
    "id": "71_FXDUAn99V"
   },
   "outputs": [],
   "source": [
    "# the path for reading the data file\n",
    "# Note: Set your path accordingly\n",
    "#os.chdir('/Users/Dippies/GL DSE Deliveries/Regression/Nov 22')\n",
    "\n",
    "# display all columns of the dataframe\n",
    "pd.options.display.max_columns = None\n",
    "\n",
    "# display all rows of the dataframe\n",
    "pd.options.display.max_rows = None\n",
    "\n",
    "# return an output value upto 6 decimals\n",
    "pd.options.display.float_format = '{:.6f}'.format"
   ]
  },
  {
   "cell_type": "markdown",
   "metadata": {
    "id": "wAXakDhAn99W"
   },
   "source": [
    "<a id='Read_Data'></a>\n",
    "## 3. Read Data"
   ]
  },
  {
   "cell_type": "markdown",
   "metadata": {
    "id": "TiTmLLkIn99W"
   },
   "source": [
    "<table align=\"left\">\n",
    "    <tr>\n",
    "        <td width=\"8%\">\n",
    "            <img src=\"todo.png\">\n",
    "        </td>\n",
    "        <td>\n",
    "            <div align=\"left\", style=\"font-size:120%\">\n",
    "                <font color=\"#21618C\">\n",
    "                    <b>Read and display data to get insights from the data<br> \n",
    "                </font>\n",
    "            </div>\n",
    "        </td>\n",
    "    </tr>\n",
    "</table>"
   ]
  },
  {
   "cell_type": "code",
   "execution_count": 15,
   "metadata": {
    "id": "Nvjyq8JQn99W",
    "outputId": "24bc4d74-8001-405c-9f82-291d3b73dab3",
    "scrolled": true
   },
   "outputs": [
    {
     "data": {
      "text/html": [
       "<div>\n",
       "<style scoped>\n",
       "    .dataframe tbody tr th:only-of-type {\n",
       "        vertical-align: middle;\n",
       "    }\n",
       "\n",
       "    .dataframe tbody tr th {\n",
       "        vertical-align: top;\n",
       "    }\n",
       "\n",
       "    .dataframe thead th {\n",
       "        text-align: right;\n",
       "    }\n",
       "</style>\n",
       "<table border=\"1\" class=\"dataframe\">\n",
       "  <thead>\n",
       "    <tr style=\"text-align: right;\">\n",
       "      <th></th>\n",
       "      <th>age</th>\n",
       "      <th>sex</th>\n",
       "      <th>weight</th>\n",
       "      <th>bmi</th>\n",
       "      <th>hereditary_diseases</th>\n",
       "      <th>no_of_dependents</th>\n",
       "      <th>smoker</th>\n",
       "      <th>city</th>\n",
       "      <th>bloodpressure</th>\n",
       "      <th>diabetes</th>\n",
       "      <th>regular_ex</th>\n",
       "      <th>job_title</th>\n",
       "      <th>claim</th>\n",
       "    </tr>\n",
       "  </thead>\n",
       "  <tbody>\n",
       "    <tr>\n",
       "      <th>0</th>\n",
       "      <td>60.000000</td>\n",
       "      <td>male</td>\n",
       "      <td>64</td>\n",
       "      <td>24.300000</td>\n",
       "      <td>NoDisease</td>\n",
       "      <td>1</td>\n",
       "      <td>0</td>\n",
       "      <td>NewYork</td>\n",
       "      <td>72</td>\n",
       "      <td>0</td>\n",
       "      <td>0</td>\n",
       "      <td>Actor</td>\n",
       "      <td>13112.600000</td>\n",
       "    </tr>\n",
       "    <tr>\n",
       "      <th>1</th>\n",
       "      <td>49.000000</td>\n",
       "      <td>female</td>\n",
       "      <td>75</td>\n",
       "      <td>22.600000</td>\n",
       "      <td>NoDisease</td>\n",
       "      <td>1</td>\n",
       "      <td>0</td>\n",
       "      <td>Boston</td>\n",
       "      <td>78</td>\n",
       "      <td>1</td>\n",
       "      <td>1</td>\n",
       "      <td>Engineer</td>\n",
       "      <td>9567.000000</td>\n",
       "    </tr>\n",
       "    <tr>\n",
       "      <th>2</th>\n",
       "      <td>32.000000</td>\n",
       "      <td>female</td>\n",
       "      <td>64</td>\n",
       "      <td>17.800000</td>\n",
       "      <td>Epilepsy</td>\n",
       "      <td>2</td>\n",
       "      <td>1</td>\n",
       "      <td>Phildelphia</td>\n",
       "      <td>88</td>\n",
       "      <td>1</td>\n",
       "      <td>1</td>\n",
       "      <td>Academician</td>\n",
       "      <td>32734.200000</td>\n",
       "    </tr>\n",
       "    <tr>\n",
       "      <th>3</th>\n",
       "      <td>61.000000</td>\n",
       "      <td>female</td>\n",
       "      <td>53</td>\n",
       "      <td>36.400000</td>\n",
       "      <td>NoDisease</td>\n",
       "      <td>1</td>\n",
       "      <td>1</td>\n",
       "      <td>Pittsburg</td>\n",
       "      <td>72</td>\n",
       "      <td>1</td>\n",
       "      <td>0</td>\n",
       "      <td>Chef</td>\n",
       "      <td>48517.600000</td>\n",
       "    </tr>\n",
       "    <tr>\n",
       "      <th>4</th>\n",
       "      <td>19.000000</td>\n",
       "      <td>female</td>\n",
       "      <td>50</td>\n",
       "      <td>20.600000</td>\n",
       "      <td>NoDisease</td>\n",
       "      <td>0</td>\n",
       "      <td>0</td>\n",
       "      <td>Buffalo</td>\n",
       "      <td>82</td>\n",
       "      <td>1</td>\n",
       "      <td>0</td>\n",
       "      <td>HomeMakers</td>\n",
       "      <td>1731.700000</td>\n",
       "    </tr>\n",
       "  </tbody>\n",
       "</table>\n",
       "</div>"
      ],
      "text/plain": [
       "        age     sex  weight       bmi hereditary_diseases  no_of_dependents  \\\n",
       "0 60.000000    male      64 24.300000           NoDisease                 1   \n",
       "1 49.000000  female      75 22.600000           NoDisease                 1   \n",
       "2 32.000000  female      64 17.800000            Epilepsy                 2   \n",
       "3 61.000000  female      53 36.400000           NoDisease                 1   \n",
       "4 19.000000  female      50 20.600000           NoDisease                 0   \n",
       "\n",
       "   smoker         city  bloodpressure  diabetes  regular_ex    job_title  \\\n",
       "0       0      NewYork             72         0           0        Actor   \n",
       "1       0       Boston             78         1           1     Engineer   \n",
       "2       1  Phildelphia             88         1           1  Academician   \n",
       "3       1    Pittsburg             72         1           0         Chef   \n",
       "4       0      Buffalo             82         1           0   HomeMakers   \n",
       "\n",
       "         claim  \n",
       "0 13112.600000  \n",
       "1  9567.000000  \n",
       "2 32734.200000  \n",
       "3 48517.600000  \n",
       "4  1731.700000  "
      ]
     },
     "execution_count": 15,
     "metadata": {},
     "output_type": "execute_result"
    }
   ],
   "source": [
    "# read csv file using pandas\n",
    "df_insurance = pd.read_csv(\"healthinsurance.csv\")\n",
    "\n",
    "# display the top 5 rows of the dataframe\n",
    "df_insurance.head()\n",
    "\n",
    "# Note: In order to display more rows, example 10, use head(10)"
   ]
  },
  {
   "cell_type": "markdown",
   "metadata": {
    "id": "JGF9Nxyjn99X"
   },
   "source": [
    "<a id='data_preparation'></a>\n",
    "## 4. Data Analysis and Preparation\n"
   ]
  },
  {
   "cell_type": "markdown",
   "metadata": {
    "id": "GhoD4-CVn99X"
   },
   "source": [
    "<table align=\"left\">\n",
    "    <tr>\n",
    "        <td width=\"8%\">\n",
    "            <img src=\"todo.png\">\n",
    "        </td>\n",
    "        <td>\n",
    "            <div align=\"left\", style=\"font-size:120%\">\n",
    "                <font color=\"#21618C\">\n",
    "                    <b>Data preparation is the process of cleaning and transforming raw data prior to building predictive models. <br><br>\n",
    "                        Here we will analyze and prepare data to perform regression analysis:<br>\n",
    "                        1. Check dimensions of the dataframe in terms of rows and columns <Br>\n",
    "                        2. Check the data types. Refer data definition to ensure your data types are correct  <br>\n",
    "                        3. If data types are not as per business context, change the data types as per requirement <br>\n",
    "                        4. Study summary statistics<br>\n",
    "                        5. Check for missing values<br>\n",
    "                        6. Study correlation<br>\n",
    "                        7. Analyze categorical variables<br>\n",
    "                        8. Analyze relationship between target variable and categorical variables<br>\n",
    "                        9. Perform feature engineering<br>\n",
    "                       10. Detect outliers<br>\n",
    "                       11. Recheck the correlation<br><br>\n",
    "                        Note: It is an art to explore data and one will need more and more practice to gain expertise in this area.\n",
    "                    </b>\n",
    "                </font>\n",
    "            </div>\n",
    "        </td>\n",
    "    </tr>\n",
    "</table>"
   ]
  },
  {
   "cell_type": "markdown",
   "metadata": {
    "id": "pRPoxy81n99Y"
   },
   "source": [
    "<a id='Data_Understanding'></a>\n",
    "### 4.1 Understand the Dataset"
   ]
  },
  {
   "cell_type": "markdown",
   "metadata": {
    "id": "pil8SGsHn99Y"
   },
   "source": [
    "<a id='Data_Shape'></a>\n",
    "### 4.1.1 Data Dimension"
   ]
  },
  {
   "cell_type": "markdown",
   "metadata": {
    "id": "JKcxAyWhn99Y"
   },
   "source": [
    "To know the dimensions of the data:"
   ]
  },
  {
   "cell_type": "code",
   "execution_count": 16,
   "metadata": {
    "id": "4fEPAvuYn99Y",
    "outputId": "774f806a-03a3-41a6-d54e-35fc1060ac52"
   },
   "outputs": [
    {
     "data": {
      "text/plain": [
       "(15000, 13)"
      ]
     },
     "execution_count": 16,
     "metadata": {},
     "output_type": "execute_result"
    }
   ],
   "source": [
    "# .shape returns the dimension of the data\n",
    "df_insurance.shape"
   ]
  },
  {
   "cell_type": "markdown",
   "metadata": {
    "id": "jKQuazK-n99Z"
   },
   "source": [
    "We see the dataframe has 13 columns and 15000 observations."
   ]
  },
  {
   "cell_type": "markdown",
   "metadata": {
    "id": "BV3Zn7M4n99Z"
   },
   "source": [
    "<a id='Data_Types'></a>\n",
    "### 4.1.2 Data Types\n",
    "Data has a variety of data types. The main types stored in pandas dataframes are object, float, int64, bool and datetime64. In order to learn about each attribute, it is always good for us to know the data type of each column."
   ]
  },
  {
   "cell_type": "markdown",
   "metadata": {
    "id": "QJ0kT6O0n99Z"
   },
   "source": [
    "<table align=\"left\">\n",
    "    <tr>\n",
    "        <td width=\"8%\">\n",
    "            <img src=\"todo.png\">\n",
    "        </td>\n",
    "        <td>\n",
    "            <div align=\"left\", style=\"font-size:120%\">\n",
    "                <font color=\"#21618C\">\n",
    "                    <b> In this section we will: <br>  \n",
    "                        1. Check data types<br>\n",
    "                        2. Change the incorrect data types<br>\n",
    "                        3. Recheck the data types after the conversion\n",
    "                    </b>\n",
    "                </font>\n",
    "            </div>\n",
    "        </td>\n",
    "    </tr>\n",
    "</table>"
   ]
  },
  {
   "cell_type": "markdown",
   "metadata": {
    "id": "aKkODcJsn99Z"
   },
   "source": [
    "**1. Check data types**"
   ]
  },
  {
   "cell_type": "code",
   "execution_count": 17,
   "metadata": {
    "id": "U-7qebhDn99Z",
    "outputId": "bcc0b650-13d3-4cbb-b0a0-26539efcf0e5"
   },
   "outputs": [
    {
     "data": {
      "text/plain": [
       "age                    float64\n",
       "sex                     object\n",
       "weight                   int64\n",
       "bmi                    float64\n",
       "hereditary_diseases     object\n",
       "no_of_dependents         int64\n",
       "smoker                   int64\n",
       "city                    object\n",
       "bloodpressure            int64\n",
       "diabetes                 int64\n",
       "regular_ex               int64\n",
       "job_title               object\n",
       "claim                  float64\n",
       "dtype: object"
      ]
     },
     "execution_count": 17,
     "metadata": {},
     "output_type": "execute_result"
    }
   ],
   "source": [
    "# use .dtypes to view the data type of a variable\n",
    "df_insurance.dtypes"
   ]
  },
  {
   "cell_type": "markdown",
   "metadata": {
    "id": "YkPrhANOn99a"
   },
   "source": [
    "<table align='left'>\n",
    "    <tr>\n",
    "        <td width='8%'>\n",
    "            <img src='infer.png'>\n",
    "        </td>\n",
    "        <td>\n",
    "            <div align='left', style='font-size:120%'>\n",
    "                <font color='#21618C'>\n",
    "                    <b>From the above output, we see that the data type of 'smoker', 'diabetes' and 'regular_ex' is 'int64'.<br><br>\n",
    "                        But according to data definition, 'smoker', 'diabetes' and 'regular_ex' are categorical variables, which are wrongly interpreted as 'int64', so we will convert these variables data type to 'object'.<br></b>\n",
    "                </font>\n",
    "            </div>\n",
    "        </td>\n",
    "    </tr>\n",
    "</table>\n",
    "\n",
    "\n"
   ]
  },
  {
   "cell_type": "markdown",
   "metadata": {
    "id": "bD8tTbePn99a"
   },
   "source": [
    "**2. Change the incorrect data types**"
   ]
  },
  {
   "cell_type": "code",
   "execution_count": 18,
   "metadata": {
    "id": "Z_lE6TQGn99a"
   },
   "outputs": [],
   "source": [
    "# use .astype() to change the data type\n",
    "# convert numerical variables to categorical  \n",
    "\n",
    "# convert numeric variable 'smoker' to object (categorical) variable\n",
    "df_insurance.smoker = df_insurance.smoker.astype('object')\n",
    "\n",
    "# convert numeric variable 'diabetes' to object (categorical) variable\n",
    "df_insurance.diabetes = df_insurance.diabetes.astype('object')\n",
    "\n",
    "# convert 'regular_ex' variable diabetes to object (categorical) variable\n",
    "df_insurance.regular_ex = df_insurance.regular_ex.astype('object')"
   ]
  },
  {
   "cell_type": "markdown",
   "metadata": {
    "id": "yq48xoD2n99a"
   },
   "source": [
    "**3. Recheck the data types after the conversion**"
   ]
  },
  {
   "cell_type": "code",
   "execution_count": 19,
   "metadata": {
    "id": "Iu3c7odTn99a",
    "outputId": "95c0cffc-7a13-423c-ad91-dec33b270b57"
   },
   "outputs": [
    {
     "data": {
      "text/plain": [
       "age                    float64\n",
       "sex                     object\n",
       "weight                   int64\n",
       "bmi                    float64\n",
       "hereditary_diseases     object\n",
       "no_of_dependents         int64\n",
       "smoker                  object\n",
       "city                    object\n",
       "bloodpressure            int64\n",
       "diabetes                object\n",
       "regular_ex              object\n",
       "job_title               object\n",
       "claim                  float64\n",
       "dtype: object"
      ]
     },
     "execution_count": 19,
     "metadata": {},
     "output_type": "execute_result"
    }
   ],
   "source": [
    "# recheck the data types using .dtypes\n",
    "df_insurance.dtypes"
   ]
  },
  {
   "cell_type": "markdown",
   "metadata": {
    "id": "KE680_kon99a"
   },
   "source": [
    "Note the data types are now as per the data definition. Now we can proceed with the analysis."
   ]
  },
  {
   "cell_type": "markdown",
   "metadata": {
    "id": "-KG2Ccyhn99a"
   },
   "source": [
    "<a id='Summary_Statistics'></a>\n",
    "### 4.1.3 Summary Statistics"
   ]
  },
  {
   "cell_type": "markdown",
   "metadata": {
    "id": "HYQ_9HS5n99a"
   },
   "source": [
    "<table align=\"left\">\n",
    "    <tr>\n",
    "        <td width=\"8%\">\n",
    "            <img src=\"todo.png\">\n",
    "        </td>\n",
    "        <td>\n",
    "            <div align=\"left\", style=\"font-size:120%\">\n",
    "                <font color=\"#21618C\">\n",
    "                    <b> In our dataset we have numerical and categorical variables. Now we check for summary statistics of all the variables<br>\n",
    "                        1. For numerical variables, we use .describe()<br>\n",
    "                        2. For categorical features, we use .describe(include=object) <br>\n",
    "                    </b>\n",
    "                </font>\n",
    "            </div>\n",
    "        </td>\n",
    "    </tr>\n",
    "</table>"
   ]
  },
  {
   "cell_type": "markdown",
   "metadata": {
    "id": "Iro2kkhRn99b"
   },
   "source": [
    "**1. For numerical variables, we use .describe()**"
   ]
  },
  {
   "cell_type": "code",
   "execution_count": 20,
   "metadata": {
    "id": "CS5fs2o7n99b",
    "outputId": "8fe1c84e-3e71-4d00-b932-7943889a28be"
   },
   "outputs": [
    {
     "data": {
      "text/html": [
       "<div>\n",
       "<style scoped>\n",
       "    .dataframe tbody tr th:only-of-type {\n",
       "        vertical-align: middle;\n",
       "    }\n",
       "\n",
       "    .dataframe tbody tr th {\n",
       "        vertical-align: top;\n",
       "    }\n",
       "\n",
       "    .dataframe thead th {\n",
       "        text-align: right;\n",
       "    }\n",
       "</style>\n",
       "<table border=\"1\" class=\"dataframe\">\n",
       "  <thead>\n",
       "    <tr style=\"text-align: right;\">\n",
       "      <th></th>\n",
       "      <th>age</th>\n",
       "      <th>weight</th>\n",
       "      <th>bmi</th>\n",
       "      <th>no_of_dependents</th>\n",
       "      <th>bloodpressure</th>\n",
       "      <th>claim</th>\n",
       "    </tr>\n",
       "  </thead>\n",
       "  <tbody>\n",
       "    <tr>\n",
       "      <th>count</th>\n",
       "      <td>14604.000000</td>\n",
       "      <td>15000.000000</td>\n",
       "      <td>14044.000000</td>\n",
       "      <td>15000.000000</td>\n",
       "      <td>15000.000000</td>\n",
       "      <td>15000.000000</td>\n",
       "    </tr>\n",
       "    <tr>\n",
       "      <th>mean</th>\n",
       "      <td>39.547521</td>\n",
       "      <td>64.909600</td>\n",
       "      <td>30.266413</td>\n",
       "      <td>1.129733</td>\n",
       "      <td>68.650133</td>\n",
       "      <td>13401.437620</td>\n",
       "    </tr>\n",
       "    <tr>\n",
       "      <th>std</th>\n",
       "      <td>14.015966</td>\n",
       "      <td>13.701935</td>\n",
       "      <td>6.122950</td>\n",
       "      <td>1.228469</td>\n",
       "      <td>19.418515</td>\n",
       "      <td>12148.239619</td>\n",
       "    </tr>\n",
       "    <tr>\n",
       "      <th>min</th>\n",
       "      <td>18.000000</td>\n",
       "      <td>34.000000</td>\n",
       "      <td>16.000000</td>\n",
       "      <td>0.000000</td>\n",
       "      <td>0.000000</td>\n",
       "      <td>1121.900000</td>\n",
       "    </tr>\n",
       "    <tr>\n",
       "      <th>25%</th>\n",
       "      <td>27.000000</td>\n",
       "      <td>54.000000</td>\n",
       "      <td>25.700000</td>\n",
       "      <td>0.000000</td>\n",
       "      <td>64.000000</td>\n",
       "      <td>4846.900000</td>\n",
       "    </tr>\n",
       "    <tr>\n",
       "      <th>50%</th>\n",
       "      <td>40.000000</td>\n",
       "      <td>63.000000</td>\n",
       "      <td>29.400000</td>\n",
       "      <td>1.000000</td>\n",
       "      <td>71.000000</td>\n",
       "      <td>9545.650000</td>\n",
       "    </tr>\n",
       "    <tr>\n",
       "      <th>75%</th>\n",
       "      <td>52.000000</td>\n",
       "      <td>76.000000</td>\n",
       "      <td>34.400000</td>\n",
       "      <td>2.000000</td>\n",
       "      <td>80.000000</td>\n",
       "      <td>16519.125000</td>\n",
       "    </tr>\n",
       "    <tr>\n",
       "      <th>max</th>\n",
       "      <td>64.000000</td>\n",
       "      <td>95.000000</td>\n",
       "      <td>53.100000</td>\n",
       "      <td>5.000000</td>\n",
       "      <td>122.000000</td>\n",
       "      <td>63770.400000</td>\n",
       "    </tr>\n",
       "  </tbody>\n",
       "</table>\n",
       "</div>"
      ],
      "text/plain": [
       "               age       weight          bmi  no_of_dependents  bloodpressure  \\\n",
       "count 14604.000000 15000.000000 14044.000000      15000.000000   15000.000000   \n",
       "mean     39.547521    64.909600    30.266413          1.129733      68.650133   \n",
       "std      14.015966    13.701935     6.122950          1.228469      19.418515   \n",
       "min      18.000000    34.000000    16.000000          0.000000       0.000000   \n",
       "25%      27.000000    54.000000    25.700000          0.000000      64.000000   \n",
       "50%      40.000000    63.000000    29.400000          1.000000      71.000000   \n",
       "75%      52.000000    76.000000    34.400000          2.000000      80.000000   \n",
       "max      64.000000    95.000000    53.100000          5.000000     122.000000   \n",
       "\n",
       "             claim  \n",
       "count 15000.000000  \n",
       "mean  13401.437620  \n",
       "std   12148.239619  \n",
       "min    1121.900000  \n",
       "25%    4846.900000  \n",
       "50%    9545.650000  \n",
       "75%   16519.125000  \n",
       "max   63770.400000  "
      ]
     },
     "execution_count": 20,
     "metadata": {},
     "output_type": "execute_result"
    }
   ],
   "source": [
    "# describe the numerical data\n",
    "df_insurance.describe()"
   ]
  },
  {
   "cell_type": "markdown",
   "metadata": {
    "id": "Pc7QSWiRn99b"
   },
   "source": [
    "<table align=\"left\">\n",
    "    <tr>\n",
    "        <td width=\"8%\">\n",
    "            <img src=\"infer.png\">\n",
    "        </td>\n",
    "        <td>\n",
    "            <div align=\"left\", style=\"font-size:120%\">\n",
    "                <font color=\"#21618C\">\n",
    "<b>The above output illustrates the summary statistics of all the numeric variables like the mean, median(50%), minimum, and maximum values, along with the standard deviation.<br>\n",
    "    Note, the average age of a policyholder claiming the insurance is 39 years. The claim amount is between 1121 to 63770. Here the mean bmi of a policyholder is 30 (the healthy bmi range is between 18.5 to 24.9) and average weight is 64.<br><br>\n",
    "    If we observe the count of all the variables, there is less count for variable age and bmi than other variables. So we can say that there are missing values in these variables. Also, the minimum bloodpressure is zero, which is invalid. We need to treat them appropriately.</b>     </font>\n",
    "            </div>\n",
    "        </td>\n",
    "    </tr>\n",
    "</table>"
   ]
  },
  {
   "cell_type": "markdown",
   "metadata": {
    "id": "32IhAx0qn99b"
   },
   "source": [
    "**2. For categorical features, we use .describe(include=object)**"
   ]
  },
  {
   "cell_type": "code",
   "execution_count": 21,
   "metadata": {
    "id": "WN50TdZBn99b",
    "outputId": "6d21314e-fd0f-4331-852d-cc24a9ea69e2"
   },
   "outputs": [
    {
     "data": {
      "text/html": [
       "<div>\n",
       "<style scoped>\n",
       "    .dataframe tbody tr th:only-of-type {\n",
       "        vertical-align: middle;\n",
       "    }\n",
       "\n",
       "    .dataframe tbody tr th {\n",
       "        vertical-align: top;\n",
       "    }\n",
       "\n",
       "    .dataframe thead th {\n",
       "        text-align: right;\n",
       "    }\n",
       "</style>\n",
       "<table border=\"1\" class=\"dataframe\">\n",
       "  <thead>\n",
       "    <tr style=\"text-align: right;\">\n",
       "      <th></th>\n",
       "      <th>sex</th>\n",
       "      <th>hereditary_diseases</th>\n",
       "      <th>smoker</th>\n",
       "      <th>city</th>\n",
       "      <th>diabetes</th>\n",
       "      <th>regular_ex</th>\n",
       "      <th>job_title</th>\n",
       "    </tr>\n",
       "  </thead>\n",
       "  <tbody>\n",
       "    <tr>\n",
       "      <th>count</th>\n",
       "      <td>15000</td>\n",
       "      <td>15000</td>\n",
       "      <td>15000</td>\n",
       "      <td>15000</td>\n",
       "      <td>15000</td>\n",
       "      <td>15000</td>\n",
       "      <td>15000</td>\n",
       "    </tr>\n",
       "    <tr>\n",
       "      <th>unique</th>\n",
       "      <td>2</td>\n",
       "      <td>10</td>\n",
       "      <td>2</td>\n",
       "      <td>91</td>\n",
       "      <td>2</td>\n",
       "      <td>2</td>\n",
       "      <td>35</td>\n",
       "    </tr>\n",
       "    <tr>\n",
       "      <th>top</th>\n",
       "      <td>female</td>\n",
       "      <td>NoDisease</td>\n",
       "      <td>0</td>\n",
       "      <td>Nashville</td>\n",
       "      <td>1</td>\n",
       "      <td>0</td>\n",
       "      <td>Student</td>\n",
       "    </tr>\n",
       "    <tr>\n",
       "      <th>freq</th>\n",
       "      <td>7652</td>\n",
       "      <td>13998</td>\n",
       "      <td>12028</td>\n",
       "      <td>302</td>\n",
       "      <td>11655</td>\n",
       "      <td>11638</td>\n",
       "      <td>1320</td>\n",
       "    </tr>\n",
       "  </tbody>\n",
       "</table>\n",
       "</div>"
      ],
      "text/plain": [
       "           sex hereditary_diseases  smoker       city  diabetes  regular_ex  \\\n",
       "count    15000               15000   15000      15000     15000       15000   \n",
       "unique       2                  10       2         91         2           2   \n",
       "top     female           NoDisease       0  Nashville         1           0   \n",
       "freq      7652               13998   12028        302     11655       11638   \n",
       "\n",
       "       job_title  \n",
       "count      15000  \n",
       "unique        35  \n",
       "top      Student  \n",
       "freq        1320  "
      ]
     },
     "execution_count": 21,
     "metadata": {},
     "output_type": "execute_result"
    }
   ],
   "source": [
    "# describe the categorical data\n",
    "# include=object: selects the categorical features\n",
    "df_insurance.describe(include = object)\n",
    "\n",
    "# Note: If we pass 'include=object' to the .describe(),\n",
    "#       it will return descriptive statistics for categorical variables only"
   ]
  },
  {
   "cell_type": "markdown",
   "metadata": {
    "id": "WSLXDlg_n99b"
   },
   "source": [
    "<table align=\"left\">\n",
    "    <tr>\n",
    "        <td width=\"8%\">\n",
    "            <img src=\"infer.png\">\n",
    "        </td>\n",
    "        <td>\n",
    "            <div align=\"left\", style=\"font-size:120%\">\n",
    "                <font color=\"#21618C\">\n",
    "                    <b>The summary statistics for categorical variables can be interpreted as:<br><br>\n",
    "       count - Total number of observations<br>\n",
    "       unique - Number of unique classes in a variable<br>\n",
    "       top - The most repeated class<br>\n",
    "       freq - Frequency of most repeated class<br><br>\n",
    "       For variable city, it is apparent that data has been taken from 91 different cities. Also, most of the policyholder are from NewOrleans. <br><br> In addition, there are more number of non smokers in the dataset and most of the policyholder are diabetic</b>\n",
    "                </font>\n",
    "            </div>\n",
    "        </td>\n",
    "    </tr>\n",
    "</table>"
   ]
  },
  {
   "cell_type": "markdown",
   "metadata": {
    "id": "VQf2lwpOn99c"
   },
   "source": [
    "<a id='Missing_Values'></a>\n",
    "### 4.1.4 Missing Values"
   ]
  },
  {
   "cell_type": "markdown",
   "metadata": {
    "id": "FWoigafOn99c"
   },
   "source": [
    "<table align=\"left\">\n",
    "    <tr>\n",
    "        <td width=\"8%\">\n",
    "            <img src=\"todo.png\">\n",
    "        </td>\n",
    "        <td>\n",
    "            <div align=\"left\", style=\"font-size:120%\">\n",
    "                <font color=\"#21618C\">\n",
    "                    <b>In order to get the count of missing values in each column, we use the in-built function .isnull().sum()\n",
    "                    </b>\n",
    "                </font>\n",
    "            </div>\n",
    "        </td>\n",
    "    </tr>\n",
    "</table>"
   ]
  },
  {
   "cell_type": "code",
   "execution_count": 22,
   "metadata": {
    "id": "XLwoOWv-n99c",
    "outputId": "9187675e-7216-45cc-a5ba-2f843d3b4fc6"
   },
   "outputs": [
    {
     "data": {
      "text/html": [
       "<div>\n",
       "<style scoped>\n",
       "    .dataframe tbody tr th:only-of-type {\n",
       "        vertical-align: middle;\n",
       "    }\n",
       "\n",
       "    .dataframe tbody tr th {\n",
       "        vertical-align: top;\n",
       "    }\n",
       "\n",
       "    .dataframe thead th {\n",
       "        text-align: right;\n",
       "    }\n",
       "</style>\n",
       "<table border=\"1\" class=\"dataframe\">\n",
       "  <thead>\n",
       "    <tr style=\"text-align: right;\">\n",
       "      <th></th>\n",
       "      <th>Total</th>\n",
       "      <th>Percentage of Missing Values</th>\n",
       "    </tr>\n",
       "  </thead>\n",
       "  <tbody>\n",
       "    <tr>\n",
       "      <th>bmi</th>\n",
       "      <td>956</td>\n",
       "      <td>6.373333</td>\n",
       "    </tr>\n",
       "    <tr>\n",
       "      <th>age</th>\n",
       "      <td>396</td>\n",
       "      <td>2.640000</td>\n",
       "    </tr>\n",
       "    <tr>\n",
       "      <th>sex</th>\n",
       "      <td>0</td>\n",
       "      <td>0.000000</td>\n",
       "    </tr>\n",
       "    <tr>\n",
       "      <th>weight</th>\n",
       "      <td>0</td>\n",
       "      <td>0.000000</td>\n",
       "    </tr>\n",
       "    <tr>\n",
       "      <th>hereditary_diseases</th>\n",
       "      <td>0</td>\n",
       "      <td>0.000000</td>\n",
       "    </tr>\n",
       "    <tr>\n",
       "      <th>no_of_dependents</th>\n",
       "      <td>0</td>\n",
       "      <td>0.000000</td>\n",
       "    </tr>\n",
       "    <tr>\n",
       "      <th>smoker</th>\n",
       "      <td>0</td>\n",
       "      <td>0.000000</td>\n",
       "    </tr>\n",
       "    <tr>\n",
       "      <th>city</th>\n",
       "      <td>0</td>\n",
       "      <td>0.000000</td>\n",
       "    </tr>\n",
       "    <tr>\n",
       "      <th>bloodpressure</th>\n",
       "      <td>0</td>\n",
       "      <td>0.000000</td>\n",
       "    </tr>\n",
       "    <tr>\n",
       "      <th>diabetes</th>\n",
       "      <td>0</td>\n",
       "      <td>0.000000</td>\n",
       "    </tr>\n",
       "    <tr>\n",
       "      <th>regular_ex</th>\n",
       "      <td>0</td>\n",
       "      <td>0.000000</td>\n",
       "    </tr>\n",
       "    <tr>\n",
       "      <th>job_title</th>\n",
       "      <td>0</td>\n",
       "      <td>0.000000</td>\n",
       "    </tr>\n",
       "    <tr>\n",
       "      <th>claim</th>\n",
       "      <td>0</td>\n",
       "      <td>0.000000</td>\n",
       "    </tr>\n",
       "  </tbody>\n",
       "</table>\n",
       "</div>"
      ],
      "text/plain": [
       "                     Total  Percentage of Missing Values\n",
       "bmi                    956                      6.373333\n",
       "age                    396                      2.640000\n",
       "sex                      0                      0.000000\n",
       "weight                   0                      0.000000\n",
       "hereditary_diseases      0                      0.000000\n",
       "no_of_dependents         0                      0.000000\n",
       "smoker                   0                      0.000000\n",
       "city                     0                      0.000000\n",
       "bloodpressure            0                      0.000000\n",
       "diabetes                 0                      0.000000\n",
       "regular_ex               0                      0.000000\n",
       "job_title                0                      0.000000\n",
       "claim                    0                      0.000000"
      ]
     },
     "execution_count": 22,
     "metadata": {},
     "output_type": "execute_result"
    }
   ],
   "source": [
    "# obtain the total missing values for each variable\n",
    "# 'isnull().sum()' returns the number of missing values in each variable\n",
    "# sort the variables on the basis of total null values in the variable using sort_values()\n",
    "# 'ascending = False' sorts values in the descending order\n",
    "# the variable with highest number of missing values will appear first\n",
    "Total = df_insurance.isnull().sum().sort_values(ascending=False) \n",
    "\n",
    "# 'isnull().sum()' returns the number of missing values in each variable\n",
    "# 'isnull().count()' returns the count of the data, i.e. count of outcomes 'True' and 'False' of isnull() \n",
    "# sort the variables on the basis of total null values in the variable using sort_values()\n",
    "# 'ascending = False' sorts values in the descending order\n",
    "# the variable with highest percentage of missing values will appear first\n",
    "Percent = (df_insurance.isnull().sum()*100/df_insurance.isnull().count()).sort_values(ascending=False)   \n",
    "\n",
    "# concat the 'Total' and 'Percent' columns using 'concat' function\n",
    "# keys:pass a list of column names in parameter  \n",
    "# axis = 1: concats along the columns\n",
    "missing_data = pd.concat([Total, Percent], axis = 1, keys = ['Total', 'Percentage of Missing Values'])\n",
    "\n",
    "# print the missing data\n",
    "missing_data"
   ]
  },
  {
   "cell_type": "markdown",
   "metadata": {
    "id": "kwXxDi_nn99c"
   },
   "source": [
    "The missing values are present in the data for the `age` and `bmi` variables. There are 396 (2.6%) missing values for the variable `age` and 956 (6.4%) missing values for the variable `bmi`"
   ]
  },
  {
   "cell_type": "markdown",
   "metadata": {
    "id": "Qo7Uls3Ln99c"
   },
   "source": [
    "### Visualize Missing Values using Heatmap"
   ]
  },
  {
   "cell_type": "code",
   "execution_count": 23,
   "metadata": {
    "id": "whhOOmDln99c",
    "outputId": "cf5551eb-457f-4f1a-ecd6-da59f2d55d02"
   },
   "outputs": [
    {
     "data": {
      "image/png": "[encoded data removed]",
      "text/plain": [
       "<Figure size 1080x576 with 1 Axes>"
      ]
     },
     "metadata": {
      "needs_background": "light"
     },
     "output_type": "display_data"
    }
   ],
   "source": [
    "# set the figure size\n",
    "plt.figure(figsize=(15, 8))\n",
    "\n",
    "# plot heatmap to check null values\n",
    "# isnull(): returns 'True' for a missing value\n",
    "# cbar: specifies whether to draw a colorbar; draws the colorbar for 'True' \n",
    "sns.heatmap(df_insurance.isnull(), cbar=False)\n",
    "\n",
    "# display the plot\n",
    "plt.show()"
   ]
  },
  {
   "cell_type": "markdown",
   "metadata": {
    "id": "eKwQjtKin99d"
   },
   "source": [
    "### Deal with Missing Values\n",
    "\n",
    "How to deal with missing data?<br>\n",
    "\n",
    "Depending on scenarios, you may:<br>\n",
    "a. Drop the whole row<br>\n",
    "b. Drop the whole column<br>\n",
    "\n",
    "OR replace:<br>\n",
    "a. The missing values with mean<br>\n",
    "b. The missing values with median<br>\n",
    "c. Replace it based on other functions<br><br>\n",
    "\n",
    "The entire column is dropped only if most entries (80%-90%) in the column are missing. We have the option to either drop the rows containing the missing values or replace them. In our dataset, there are not many values that are missing. So, we opt to replace these values. For the variable 'age', we will replace missing values by the mean of age across the gender."
   ]
  },
  {
   "cell_type": "code",
   "execution_count": 24,
   "metadata": {
    "id": "4xHh4SXsn99d",
    "outputId": "90ea0cfb-a3d6-469f-e371-40e772ea1e7c"
   },
   "outputs": [
    {
     "data": {
      "text/plain": [
       "sex\n",
       "female   39.361040\n",
       "male     39.738395\n",
       "Name: age, dtype: float64"
      ]
     },
     "execution_count": 24,
     "metadata": {},
     "output_type": "execute_result"
    }
   ],
   "source": [
    "# check the average age for male and female\n",
    "# group the age by sex using 'groupby'\n",
    "# 'axis = 0' splits along rows\n",
    "# mean(): returns the mean age for each sex\n",
    "df_insurance['age'].groupby(df_insurance['sex'], axis=0).mean()"
   ]
  },
  {
   "cell_type": "markdown",
   "metadata": {
    "id": "xQEaoMj0n99d"
   },
   "source": [
    "The average age for the male and female is nearly the same. We will fill in missing values with the mean age of the policyholder."
   ]
  },
  {
   "cell_type": "code",
   "execution_count": 25,
   "metadata": {
    "id": "cboHj1Hrn99d"
   },
   "outputs": [],
   "source": [
    "# fill the missing values with the mean value of 'age' using 'fillna()'\n",
    "# mean(): returns the mean age\n",
    "# inplace: makes permanent changes in the dataframe\n",
    "df_insurance['age'].fillna(df_insurance['age'].mean(), inplace=True)"
   ]
  },
  {
   "cell_type": "markdown",
   "metadata": {
    "id": "rBD-3oX3n99d"
   },
   "source": [
    "Replace missing values by mean for the BMI."
   ]
  },
  {
   "cell_type": "code",
   "execution_count": 26,
   "metadata": {
    "id": "oqQUohA-n99d"
   },
   "outputs": [],
   "source": [
    "# fill the missing values with the mean value of 'bmi' using 'fillna()'\n",
    "# mean(): returns the mean bmi\n",
    "# inplace: makes permanent changes in the dataframe\n",
    "df_insurance['bmi'].fillna(df_insurance['bmi'].mean(), inplace=True)"
   ]
  },
  {
   "cell_type": "markdown",
   "metadata": {
    "id": "pgezv6Sen99e"
   },
   "source": [
    "We have seen that the the minimum bloodpressure is 0, which is absurd. It implies that these are missing values. \n",
    "Let us replace these missing values with the median value."
   ]
  },
  {
   "cell_type": "code",
   "execution_count": 27,
   "metadata": {
    "id": "BOm1ej3hn99e"
   },
   "outputs": [],
   "source": [
    "# calculate the median of the bloodpressure using 'median()''\n",
    "median_bloodpressure = df_insurance['bloodpressure'].median()\n",
    "\n",
    "# replace zero values by median using 'replace()'\n",
    "df_insurance['bloodpressure'] = df_insurance['bloodpressure'].replace(0,median_bloodpressure) "
   ]
  },
  {
   "cell_type": "markdown",
   "metadata": {
    "id": "ZT_1ul-Sn99e"
   },
   "source": [
    "Recheck the summary statistics to confirm the missing value treatment for the variable 'bloodpressure'."
   ]
  },
  {
   "cell_type": "code",
   "execution_count": 28,
   "metadata": {
    "id": "cZmgdk3_n99e",
    "outputId": "9b5c2d3b-8e77-493b-a30f-af0f43996f39"
   },
   "outputs": [
    {
     "data": {
      "text/html": [
       "<div>\n",
       "<style scoped>\n",
       "    .dataframe tbody tr th:only-of-type {\n",
       "        vertical-align: middle;\n",
       "    }\n",
       "\n",
       "    .dataframe tbody tr th {\n",
       "        vertical-align: top;\n",
       "    }\n",
       "\n",
       "    .dataframe thead th {\n",
       "        text-align: right;\n",
       "    }\n",
       "</style>\n",
       "<table border=\"1\" class=\"dataframe\">\n",
       "  <thead>\n",
       "    <tr style=\"text-align: right;\">\n",
       "      <th></th>\n",
       "      <th>age</th>\n",
       "      <th>weight</th>\n",
       "      <th>bmi</th>\n",
       "      <th>no_of_dependents</th>\n",
       "      <th>bloodpressure</th>\n",
       "      <th>claim</th>\n",
       "    </tr>\n",
       "  </thead>\n",
       "  <tbody>\n",
       "    <tr>\n",
       "      <th>count</th>\n",
       "      <td>15000.000000</td>\n",
       "      <td>15000.000000</td>\n",
       "      <td>15000.000000</td>\n",
       "      <td>15000.000000</td>\n",
       "      <td>15000.000000</td>\n",
       "      <td>15000.000000</td>\n",
       "    </tr>\n",
       "    <tr>\n",
       "      <th>mean</th>\n",
       "      <td>39.547521</td>\n",
       "      <td>64.909600</td>\n",
       "      <td>30.266413</td>\n",
       "      <td>1.129733</td>\n",
       "      <td>72.228533</td>\n",
       "      <td>13401.437620</td>\n",
       "    </tr>\n",
       "    <tr>\n",
       "      <th>std</th>\n",
       "      <td>13.829705</td>\n",
       "      <td>13.701935</td>\n",
       "      <td>5.924606</td>\n",
       "      <td>1.228469</td>\n",
       "      <td>11.269793</td>\n",
       "      <td>12148.239619</td>\n",
       "    </tr>\n",
       "    <tr>\n",
       "      <th>min</th>\n",
       "      <td>18.000000</td>\n",
       "      <td>34.000000</td>\n",
       "      <td>16.000000</td>\n",
       "      <td>0.000000</td>\n",
       "      <td>40.000000</td>\n",
       "      <td>1121.900000</td>\n",
       "    </tr>\n",
       "    <tr>\n",
       "      <th>25%</th>\n",
       "      <td>27.000000</td>\n",
       "      <td>54.000000</td>\n",
       "      <td>25.900000</td>\n",
       "      <td>0.000000</td>\n",
       "      <td>64.000000</td>\n",
       "      <td>4846.900000</td>\n",
       "    </tr>\n",
       "    <tr>\n",
       "      <th>50%</th>\n",
       "      <td>40.000000</td>\n",
       "      <td>63.000000</td>\n",
       "      <td>29.800000</td>\n",
       "      <td>1.000000</td>\n",
       "      <td>71.000000</td>\n",
       "      <td>9545.650000</td>\n",
       "    </tr>\n",
       "    <tr>\n",
       "      <th>75%</th>\n",
       "      <td>51.000000</td>\n",
       "      <td>76.000000</td>\n",
       "      <td>34.100000</td>\n",
       "      <td>2.000000</td>\n",
       "      <td>80.000000</td>\n",
       "      <td>16519.125000</td>\n",
       "    </tr>\n",
       "    <tr>\n",
       "      <th>max</th>\n",
       "      <td>64.000000</td>\n",
       "      <td>95.000000</td>\n",
       "      <td>53.100000</td>\n",
       "      <td>5.000000</td>\n",
       "      <td>122.000000</td>\n",
       "      <td>63770.400000</td>\n",
       "    </tr>\n",
       "  </tbody>\n",
       "</table>\n",
       "</div>"
      ],
      "text/plain": [
       "               age       weight          bmi  no_of_dependents  bloodpressure  \\\n",
       "count 15000.000000 15000.000000 15000.000000      15000.000000   15000.000000   \n",
       "mean     39.547521    64.909600    30.266413          1.129733      72.228533   \n",
       "std      13.829705    13.701935     5.924606          1.228469      11.269793   \n",
       "min      18.000000    34.000000    16.000000          0.000000      40.000000   \n",
       "25%      27.000000    54.000000    25.900000          0.000000      64.000000   \n",
       "50%      40.000000    63.000000    29.800000          1.000000      71.000000   \n",
       "75%      51.000000    76.000000    34.100000          2.000000      80.000000   \n",
       "max      64.000000    95.000000    53.100000          5.000000     122.000000   \n",
       "\n",
       "             claim  \n",
       "count 15000.000000  \n",
       "mean  13401.437620  \n",
       "std   12148.239619  \n",
       "min    1121.900000  \n",
       "25%    4846.900000  \n",
       "50%    9545.650000  \n",
       "75%   16519.125000  \n",
       "max   63770.400000  "
      ]
     },
     "execution_count": 28,
     "metadata": {},
     "output_type": "execute_result"
    }
   ],
   "source": [
    "# obtain the summary statistics of numeric variables using 'describe()'\n",
    "df_insurance.describe()"
   ]
  },
  {
   "cell_type": "markdown",
   "metadata": {
    "id": "LYIzdKncn99f"
   },
   "source": [
    "To confirm the data is valid, observe the minimum and maximum value of the variable `bloodpressure` is 40, which can be possible with patients suffering from low bloodpressure."
   ]
  },
  {
   "cell_type": "markdown",
   "metadata": {
    "id": "P62tmBJun99f"
   },
   "source": [
    "Let's view the missing value plot once again to see if the missing values have been imputed."
   ]
  },
  {
   "cell_type": "code",
   "execution_count": 29,
   "metadata": {
    "id": "0fa7RPdjn99g",
    "outputId": "ce37e58a-316e-41b5-fe94-5f1c51c13ce4"
   },
   "outputs": [
    {
     "data": {
      "image/png": "[encoded data removed]",
      "text/plain": [
       "<Figure size 1080x576 with 1 Axes>"
      ]
     },
     "metadata": {
      "needs_background": "light"
     },
     "output_type": "display_data"
    }
   ],
   "source": [
    "# set the figure size\n",
    "plt.figure(figsize=(15, 8))\n",
    "\n",
    "# plot heatmap to check null values\n",
    "# isnull(): returns 'True' for a missing value\n",
    "# cbar: specifies whether to draw a colorbar; draws the colorbar for 'True' \n",
    "sns.heatmap(df_insurance.isnull(), cbar=False)\n",
    "\n",
    "# display the plot\n",
    "plt.show()"
   ]
  },
  {
   "cell_type": "markdown",
   "metadata": {
    "id": "X-h7fJc8n99h"
   },
   "source": [
    "Now, we obtain the dataset with no missing values."
   ]
  },
  {
   "cell_type": "markdown",
   "metadata": {
    "id": "MhKSqwtEn99h"
   },
   "source": [
    "<a id='correlation'></a>\n",
    "### 4.1.5 Correlation"
   ]
  },
  {
   "cell_type": "markdown",
   "metadata": {
    "id": "2_mIs_lbn99h"
   },
   "source": [
    "<ul>\n",
    "    <li>Correlation is the extent of linear relationship among numeric variables</li>\n",
    "    <li>It indicates the extent to which two variables increase or decrease in parallel</li>\n",
    "    <li>The value of a correlation coefficient ranges between -1 and 1</li>\n",
    "    <li> Correlation among multiple variables can be represented in the form of a matrix. This allows us to see which pairs are correlated</li>\n",
    "    </ul>\n",
    "    "
   ]
  },
  {
   "cell_type": "markdown",
   "metadata": {
    "id": "3GixEnynn99i"
   },
   "source": [
    "<table align=\"left\">\n",
    "    <tr>\n",
    "        <td width=\"8%\">\n",
    "            <img src=\"todo.png\">\n",
    "        </td>\n",
    "        <td>\n",
    "            <div align=\"left\", style=\"font-size:120%\">\n",
    "                <font color=\"#21618C\">\n",
    "                    <b>In order to compute the correlation matrix, we perform the following:<br>\n",
    "                    1. Filter out only the numeric variables from the dataframe using select_dtypes() function<br>\n",
    "                    2. Call the corr() function which will return the correlation matrix of numeric variables <br>\n",
    "                    3. Pass the correlation matrix to the heatmap() function of the seaborn library to plot the heatmap of the correlation matrix\n",
    "                    </b>\n",
    "                </font>\n",
    "            </div>\n",
    "        </td>\n",
    "    </tr>\n",
    "</table>"
   ]
  },
  {
   "cell_type": "markdown",
   "metadata": {
    "id": "cBvw9WPDn99i"
   },
   "source": [
    "**1. Filter out only the numeric variables from the dataframe using select_dtypes() function**"
   ]
  },
  {
   "cell_type": "code",
   "execution_count": 30,
   "metadata": {
    "id": "90HzxD92n99i",
    "outputId": "7b0fa4ef-8f9d-4d04-b186-738c37b0d4f7"
   },
   "outputs": [
    {
     "data": {
      "text/plain": [
       "Index(['age', 'weight', 'bmi', 'no_of_dependents', 'bloodpressure', 'claim'], dtype='object')"
      ]
     },
     "execution_count": 30,
     "metadata": {},
     "output_type": "execute_result"
    }
   ],
   "source": [
    "# select the numerical features in the dataset using 'select_dtypes()'\n",
    "# select_dtypes(include=np.number): considers the numeric variables\n",
    "df_numeric_features = df_insurance.select_dtypes(include=np.number)\n",
    "\n",
    "# print the names of the numeric variables \n",
    "df_numeric_features.columns"
   ]
  },
  {
   "cell_type": "markdown",
   "metadata": {
    "id": "xah2uMPCn99i"
   },
   "source": [
    "The dataframe df_numeric_features has 6 numeric variables."
   ]
  },
  {
   "cell_type": "markdown",
   "metadata": {
    "id": "goel8lfZn99i"
   },
   "source": [
    "**2.  Call the corr() function which will return the correlation matrix of numeric variables**"
   ]
  },
  {
   "cell_type": "code",
   "execution_count": 31,
   "metadata": {
    "id": "02c2ttain99j",
    "outputId": "0abcd761-bc5a-4f44-db3f-7701d7a3e7c1"
   },
   "outputs": [
    {
     "data": {
      "text/html": [
       "<div>\n",
       "<style scoped>\n",
       "    .dataframe tbody tr th:only-of-type {\n",
       "        vertical-align: middle;\n",
       "    }\n",
       "\n",
       "    .dataframe tbody tr th {\n",
       "        vertical-align: top;\n",
       "    }\n",
       "\n",
       "    .dataframe thead th {\n",
       "        text-align: right;\n",
       "    }\n",
       "</style>\n",
       "<table border=\"1\" class=\"dataframe\">\n",
       "  <thead>\n",
       "    <tr style=\"text-align: right;\">\n",
       "      <th></th>\n",
       "      <th>age</th>\n",
       "      <th>weight</th>\n",
       "      <th>bmi</th>\n",
       "      <th>no_of_dependents</th>\n",
       "      <th>bloodpressure</th>\n",
       "      <th>claim</th>\n",
       "    </tr>\n",
       "  </thead>\n",
       "  <tbody>\n",
       "    <tr>\n",
       "      <th>age</th>\n",
       "      <td>1.000000</td>\n",
       "      <td>0.281228</td>\n",
       "      <td>0.180123</td>\n",
       "      <td>0.058926</td>\n",
       "      <td>0.019223</td>\n",
       "      <td>0.298359</td>\n",
       "    </tr>\n",
       "    <tr>\n",
       "      <th>weight</th>\n",
       "      <td>0.281228</td>\n",
       "      <td>1.000000</td>\n",
       "      <td>0.243269</td>\n",
       "      <td>0.135687</td>\n",
       "      <td>0.018094</td>\n",
       "      <td>0.077716</td>\n",
       "    </tr>\n",
       "    <tr>\n",
       "      <th>bmi</th>\n",
       "      <td>0.180123</td>\n",
       "      <td>0.243269</td>\n",
       "      <td>1.000000</td>\n",
       "      <td>0.049704</td>\n",
       "      <td>-0.047979</td>\n",
       "      <td>0.197939</td>\n",
       "    </tr>\n",
       "    <tr>\n",
       "      <th>no_of_dependents</th>\n",
       "      <td>0.058926</td>\n",
       "      <td>0.135687</td>\n",
       "      <td>0.049704</td>\n",
       "      <td>1.000000</td>\n",
       "      <td>0.036976</td>\n",
       "      <td>0.067614</td>\n",
       "    </tr>\n",
       "    <tr>\n",
       "      <th>bloodpressure</th>\n",
       "      <td>0.019223</td>\n",
       "      <td>0.018094</td>\n",
       "      <td>-0.047979</td>\n",
       "      <td>0.036976</td>\n",
       "      <td>1.000000</td>\n",
       "      <td>0.037676</td>\n",
       "    </tr>\n",
       "    <tr>\n",
       "      <th>claim</th>\n",
       "      <td>0.298359</td>\n",
       "      <td>0.077716</td>\n",
       "      <td>0.197939</td>\n",
       "      <td>0.067614</td>\n",
       "      <td>0.037676</td>\n",
       "      <td>1.000000</td>\n",
       "    </tr>\n",
       "  </tbody>\n",
       "</table>\n",
       "</div>"
      ],
      "text/plain": [
       "                      age   weight       bmi  no_of_dependents  bloodpressure  \\\n",
       "age              1.000000 0.281228  0.180123          0.058926       0.019223   \n",
       "weight           0.281228 1.000000  0.243269          0.135687       0.018094   \n",
       "bmi              0.180123 0.243269  1.000000          0.049704      -0.047979   \n",
       "no_of_dependents 0.058926 0.135687  0.049704          1.000000       0.036976   \n",
       "bloodpressure    0.019223 0.018094 -0.047979          0.036976       1.000000   \n",
       "claim            0.298359 0.077716  0.197939          0.067614       0.037676   \n",
       "\n",
       "                    claim  \n",
       "age              0.298359  \n",
       "weight           0.077716  \n",
       "bmi              0.197939  \n",
       "no_of_dependents 0.067614  \n",
       "bloodpressure    0.037676  \n",
       "claim            1.000000  "
      ]
     },
     "execution_count": 31,
     "metadata": {},
     "output_type": "execute_result"
    }
   ],
   "source": [
    "# generate the correlation matrix\n",
    "corr =  df_numeric_features.corr()\n",
    "\n",
    "# print the correlation matrix\n",
    "corr"
   ]
  },
  {
   "cell_type": "markdown",
   "metadata": {
    "id": "BUQTn3DGn99j"
   },
   "source": [
    "**3. Pass the correlation matrix to the heatmap() function of the seaborn library to plot the heatmap of the correlation matrix**"
   ]
  },
  {
   "cell_type": "code",
   "execution_count": 32,
   "metadata": {
    "id": "ggsSu2a3n99j",
    "outputId": "dc47720f-1657-4bef-a109-30e300d0348c"
   },
   "outputs": [
    {
     "data": {
      "image/png": "[encoded data removed]",
      "text/plain": [
       "<Figure size 1080x576 with 2 Axes>"
      ]
     },
     "metadata": {
      "needs_background": "light"
     },
     "output_type": "display_data"
    }
   ],
   "source": [
    "# set the figure size\n",
    "plt.figure(figsize=(15, 8))\n",
    "\n",
    "# plot the heat map\n",
    "# corr: give the correlation matrix\n",
    "# cmap: colour code used for plotting\n",
    "# vmax: gives maximum range of values for the chart\n",
    "# vmin: gives minimum range of values for the chart\n",
    "# annot: prints the correlation values in the chart\n",
    "# annot_kws: Sets the font size of the annotation\n",
    "sns.heatmap(corr, cmap='YlGnBu', vmax=1.0, vmin=-1.0, annot = True, annot_kws={\"size\": 15}, )\n",
    "\n",
    "# specify name of the plot using plt.title()\n",
    "plt.title('Correlation between numeric features')\n",
    "\n",
    "# display the plot\n",
    "plt.show()"
   ]
  },
  {
   "cell_type": "markdown",
   "metadata": {
    "id": "3LvafVkkn99j"
   },
   "source": [
    "<table align=\"left\">\n",
    "    <tr>\n",
    "        <td width=\"8%\">\n",
    "            <img src=\"infer.png\">\n",
    "        </td>\n",
    "        <td>\n",
    "            <div align=\"left\", style=\"font-size:120%\">\n",
    "                <font color=\"#21618C\">\n",
    "                    <b>It can be observe that the numeric variables are not correlated with each other since all the correlation coefficients are close to zero. It implies that there is no multicollinearity in the data. <br><br>\n",
    "                        Recollect that one of the assumptions of linear regression is that, there should be NO Multicollinearity present in the data.</b>\n",
    "                </font>\n",
    "            </div>\n",
    "        </td>\n",
    "    </tr>\n",
    "</table>\n"
   ]
  },
  {
   "cell_type": "markdown",
   "metadata": {
    "id": "Jt0ULW_in99j"
   },
   "source": [
    "<table align=\"left\">\n",
    "    <tr>\n",
    "        <td width=\"8%\">\n",
    "            <img src=\"quicktip.png\">\n",
    "        </td>\n",
    "        <td>\n",
    "            <div align=\"left\", style=\"font-size:120%\">\n",
    "                <font color=\"#21618C\">\n",
    "                    <b>Correlation does not imply causation. In other words, if two variables are correlated it does not mean that one variable caused the other</b> <br><br>\n",
    "                </font>\n",
    "            </div>\n",
    "        </td>\n",
    "    </tr>\n",
    "</table>"
   ]
  },
  {
   "cell_type": "markdown",
   "metadata": {
    "id": "pOEqQxuBn99j"
   },
   "source": [
    "<a id='categorical'></a>\n",
    "### 4.1.6 Analyze Categorical Variables\n",
    "\n",
    "Categorical variables are those in which the values are labeled categories. The values, distribution, and dispersion of categorical variables are best understood with bar plots."
   ]
  },
  {
   "cell_type": "markdown",
   "metadata": {
    "id": "vHqliImNn99k"
   },
   "source": [
    "First let us print the summary statistics of the categorical features."
   ]
  },
  {
   "cell_type": "code",
   "execution_count": 33,
   "metadata": {
    "id": "W7TCk5rWn99k",
    "outputId": "5282b84c-3dad-47a0-c2c0-22687add5824"
   },
   "outputs": [
    {
     "data": {
      "text/html": [
       "<div>\n",
       "<style scoped>\n",
       "    .dataframe tbody tr th:only-of-type {\n",
       "        vertical-align: middle;\n",
       "    }\n",
       "\n",
       "    .dataframe tbody tr th {\n",
       "        vertical-align: top;\n",
       "    }\n",
       "\n",
       "    .dataframe thead th {\n",
       "        text-align: right;\n",
       "    }\n",
       "</style>\n",
       "<table border=\"1\" class=\"dataframe\">\n",
       "  <thead>\n",
       "    <tr style=\"text-align: right;\">\n",
       "      <th></th>\n",
       "      <th>sex</th>\n",
       "      <th>hereditary_diseases</th>\n",
       "      <th>smoker</th>\n",
       "      <th>city</th>\n",
       "      <th>diabetes</th>\n",
       "      <th>regular_ex</th>\n",
       "      <th>job_title</th>\n",
       "    </tr>\n",
       "  </thead>\n",
       "  <tbody>\n",
       "    <tr>\n",
       "      <th>count</th>\n",
       "      <td>15000</td>\n",
       "      <td>15000</td>\n",
       "      <td>15000</td>\n",
       "      <td>15000</td>\n",
       "      <td>15000</td>\n",
       "      <td>15000</td>\n",
       "      <td>15000</td>\n",
       "    </tr>\n",
       "    <tr>\n",
       "      <th>unique</th>\n",
       "      <td>2</td>\n",
       "      <td>10</td>\n",
       "      <td>2</td>\n",
       "      <td>91</td>\n",
       "      <td>2</td>\n",
       "      <td>2</td>\n",
       "      <td>35</td>\n",
       "    </tr>\n",
       "    <tr>\n",
       "      <th>top</th>\n",
       "      <td>female</td>\n",
       "      <td>NoDisease</td>\n",
       "      <td>0</td>\n",
       "      <td>Nashville</td>\n",
       "      <td>1</td>\n",
       "      <td>0</td>\n",
       "      <td>Student</td>\n",
       "    </tr>\n",
       "    <tr>\n",
       "      <th>freq</th>\n",
       "      <td>7652</td>\n",
       "      <td>13998</td>\n",
       "      <td>12028</td>\n",
       "      <td>302</td>\n",
       "      <td>11655</td>\n",
       "      <td>11638</td>\n",
       "      <td>1320</td>\n",
       "    </tr>\n",
       "  </tbody>\n",
       "</table>\n",
       "</div>"
      ],
      "text/plain": [
       "           sex hereditary_diseases  smoker       city  diabetes  regular_ex  \\\n",
       "count    15000               15000   15000      15000     15000       15000   \n",
       "unique       2                  10       2         91         2           2   \n",
       "top     female           NoDisease       0  Nashville         1           0   \n",
       "freq      7652               13998   12028        302     11655       11638   \n",
       "\n",
       "       job_title  \n",
       "count      15000  \n",
       "unique        35  \n",
       "top      Student  \n",
       "freq        1320  "
      ]
     },
     "execution_count": 33,
     "metadata": {},
     "output_type": "execute_result"
    }
   ],
   "source": [
    "# display the summary statistics of categorical variables\n",
    "# include=objec: selects the categoric features\n",
    "df_insurance.describe(include=object)"
   ]
  },
  {
   "cell_type": "markdown",
   "metadata": {
    "id": "ZIKKgA2Sn99k"
   },
   "source": [
    "There are 6 categorical variables. From the output we see that the variable cities has most number of categories. There are 91 cities in the data, of which NewOrleans occurs highes number of times.\n",
    "\n",
    "Let us visualize the variables. However, we shall exculde the variable `city` from it."
   ]
  },
  {
   "cell_type": "code",
   "execution_count": 34,
   "metadata": {
    "id": "MVB8XbgYn99k",
    "outputId": "ed4e2874-485e-4b2c-b66e-d82c97a3791e",
    "scrolled": false
   },
   "outputs": [
    {
     "data": {
      "image/png": "[encoded data removed]",
      "text/plain": [
       "<Figure size 1800x1440 with 6 Axes>"
      ]
     },
     "metadata": {
      "needs_background": "light"
     },
     "output_type": "display_data"
    }
   ],
   "source": [
    "# create a list of all categorical variables\n",
    "# include=object: selects the categoric features\n",
    "# drop(['city'],axis=1): drops the city column from the dataframe\n",
    "df_categoric_features = df_insurance.select_dtypes(include='object').drop(['city'], axis=1)\n",
    "\n",
    "# plot the count distribution for each categorical variable \n",
    "# 'figsize' sets the figure size\n",
    "fig, ax = plt.subplots(3, 2, figsize=(25, 20))\n",
    "\n",
    "# plot a count plot for all the categorical variables\n",
    "for variable, subplot in zip(df_categoric_features, ax.flatten()):\n",
    "    \n",
    "    # plot the count plot using countplot()\n",
    "    # y: data on y axis\n",
    "    # ax: specifies the axes object to draw the plot onto\n",
    "    countplot = sns.countplot(y=df_insurance[variable], ax=subplot )\n",
    "       \n",
    "    # set the y-axis labels \n",
    "    # fontsize = 30: sets the font size to 30\n",
    "    countplot.set_ylabel(variable, fontsize = 30)\n",
    "\n",
    "# avoid overlapping of the plots using tight_layout()    \n",
    "plt.tight_layout()   \n",
    "\n",
    "# display the plot\n",
    "plt.show()"
   ]
  },
  {
   "cell_type": "markdown",
   "metadata": {
    "id": "MNKx3xxjn99k"
   },
   "source": [
    "<table align=\"left\">\n",
    "    <tr>\n",
    "        <td width=\"8%\">\n",
    "            <img src=\"infer.png\">\n",
    "        </td>\n",
    "        <td>\n",
    "            <div align=\"left\", style=\"font-size:120%\">\n",
    "                <font color=\"#21618C\">\n",
    "                    <b>From the above plot we see that:<ul>\n",
    "                        <li> The number of males are femals are nearly equal</li>\n",
    "                        <li> Most of the people in the data have no underlined disease </li>\n",
    "                        <li> Also the number of non smokers is significantly large </li>\n",
    "                        <li> Most of the policyholder do not excercise regularly</li>\n",
    "                        <li> Many of the policyholders have diabetes</li>\n",
    "                        <li> The had has large number of students</li>\n",
    "                        </ul></b>\n",
    "                </font>\n",
    "            </div>\n",
    "        </td>\n",
    "    </tr>\n",
    "</table>"
   ]
  },
  {
   "cell_type": "markdown",
   "metadata": {
    "id": "Y53tJ4dvn99k"
   },
   "source": [
    "Now consider the variable `city`."
   ]
  },
  {
   "cell_type": "code",
   "execution_count": 35,
   "metadata": {
    "id": "XCe6wocQn99k",
    "outputId": "269b08d3-e483-4810-ac87-4f482d102119",
    "scrolled": false
   },
   "outputs": [
    {
     "data": {
      "image/png": "[encoded data removed]",
      "text/plain": [
       "<Figure size 1080x1080 with 1 Axes>"
      ]
     },
     "metadata": {
      "needs_background": "light"
     },
     "output_type": "display_data"
    }
   ],
   "source": [
    "# set the figure size\n",
    "plt.figure(figsize=(15, 15))\n",
    "\n",
    "# plot the count plot using countplot()\n",
    "# y: specifies the data to be plotted on y-axis\n",
    "# orient: specifies the orientation of the barplot. \"h\" is used for horizontal orientation\n",
    "# by default the orientation is vertical; but can be specifies by \"v\"\n",
    "countplot = sns.countplot(y=df_insurance['city'], orient=\"h\")\n",
    "\n",
    "# set the x-axis labels \n",
    "# fontsize = 30: sets the font size to 30\n",
    "countplot.set_ylabel('City', fontsize = 30)\n",
    "\n",
    "# display the plot\n",
    "plt.show()"
   ]
  },
  {
   "cell_type": "markdown",
   "metadata": {
    "id": "CuDuOSIZn99l"
   },
   "source": [
    "<table align=\"left\">\n",
    "    <tr>\n",
    "        <td width=\"8%\">\n",
    "            <img src=\"infer.png\">\n",
    "        </td>\n",
    "        <td>\n",
    "            <div align=\"left\", style=\"font-size:120%\">\n",
    "                <font color=\"#21618C\">\n",
    "                    <b>\n",
    "                       We see that there are many cities considered in the data. It is quite difficult to perform meaningful analysis on this variable.\n",
    "                        </b>\n",
    "                </font>\n",
    "            </div>\n",
    "        </td>\n",
    "    </tr>\n",
    "</table>"
   ]
  },
  {
   "cell_type": "markdown",
   "metadata": {
    "id": "EEkOX0_Cn99l"
   },
   "source": [
    "<a id='categorical_numerical'></a>\n",
    "### 4.1.7 Analyze Relationship Between Target and Categorical Variables\n",
    "The box-and-whisker plot is commonly used for visualizing relationships between numerical variables and categorical variables."
   ]
  },
  {
   "cell_type": "markdown",
   "metadata": {
    "id": "Z9qpa7nNn99l"
   },
   "source": [
    "<table align=\"left\">\n",
    "    <tr>\n",
    "        <td width=\"8%\">\n",
    "            <img src=\"todo.png\">\n",
    "        </td>\n",
    "        <td>\n",
    "            <div align=\"left\", style=\"font-size:120%\">\n",
    "                <font color=\"#21618C\">\n",
    "                    <b>Let’s start by creating box-and-whisker plots with seaborn’s boxplot method:\n",
    "                    </b>\n",
    "                </font>\n",
    "            </div>\n",
    "        </td>\n",
    "    </tr>\n",
    "</table>"
   ]
  },
  {
   "cell_type": "code",
   "execution_count": 24,
   "metadata": {
    "id": "w_wdx7vzn99l",
    "outputId": "2b70c328-13bd-4e76-fe2a-98bec4725987"
   },
   "outputs": [
    {
     "data": {
      "image/png": "[encoded data removed]",
      "text/plain": [
       "<Figure size 1800x1080 with 6 Axes>"
      ]
     },
     "metadata": {
      "needs_background": "light"
     },
     "output_type": "display_data"
    }
   ],
   "source": [
    "# plot the boxplot for each categorical variable \n",
    "# create subplots using subplots()\n",
    "# 6 subplots in 3 rows and 2 columns\n",
    "# 'figsize' sets the figure size\n",
    "fig, ax = plt.subplots(3, 2, figsize=(25, 15))\n",
    "\n",
    "# plot a boxplot for all the categorical variables \n",
    "for variable, subplot in zip(df_categoric_features, ax.flatten()):\n",
    "    \n",
    "    # x: variable on x-axis\n",
    "    # y: variable in y-axis\n",
    "    # data: dataframe to be used\n",
    "    # ax: specifies the axes object to draw the plot onto\n",
    "    boxplt = sns.boxplot(x=variable, y='claim', data=df_insurance, ax=subplot)\n",
    "    \n",
    "    # set the x-axis labels \n",
    "    # fontsize = 30: sets the font size to 30\n",
    "    boxplt.set_xlabel(variable, fontsize = 30)\n",
    "\n",
    "# avoid overlapping of the plots using tight_layout()    \n",
    "plt.tight_layout()   \n",
    "\n",
    "# display the plot\n",
    "plt.show() "
   ]
  },
  {
   "cell_type": "markdown",
   "metadata": {
    "id": "gsix0uSNn99l"
   },
   "source": [
    "Since the variable `city` has 91 categories, we shall plot it separately."
   ]
  },
  {
   "cell_type": "code",
   "execution_count": 25,
   "metadata": {
    "id": "AEk6CDwRn99m",
    "outputId": "4207371a-8d13-407c-ed0e-6e958ebc0bc1"
   },
   "outputs": [
    {
     "data": {
      "image/png": "[encoded data removed]",
      "text/plain": [
       "<Figure size 1080x576 with 1 Axes>"
      ]
     },
     "metadata": {
      "needs_background": "light"
     },
     "output_type": "display_data"
    }
   ],
   "source": [
    "# set the figure size\n",
    "plt.figure(figsize=(15, 8))\n",
    "\n",
    "# plot the boxplot for categorical variable 'city'\n",
    "# x: variable on x-axis\n",
    "# y: variable in y-axis\n",
    "# data: dataframe to be used\n",
    "ax = sns.boxplot(x=df_insurance[\"city\"], y=df_insurance['claim'], data=df_insurance)\n",
    "\n",
    "# set the x-axis labels \n",
    "# rotation: rotate the the x-axis ticks by 90˚\n",
    "# fontsize = 30: sets the font size to 10\n",
    "ax.set_xticklabels(ax.get_xticklabels(), rotation=90, fontsize = 10)\n",
    "\n",
    "# display the plot\n",
    "plt.show()"
   ]
  },
  {
   "cell_type": "markdown",
   "metadata": {
    "id": "4F7PrubJn99m"
   },
   "source": [
    "<table align=\"left\">\n",
    "    <tr>\n",
    "        <td width=\"8%\">\n",
    "            <img src=\"infer.png\">\n",
    "        </td>\n",
    "        <td>\n",
    "            <div align=\"left\", style=\"font-size:120%\">\n",
    "                <font color=\"#21618C\">\n",
    "                    <b><ul>\n",
    "                        <li>We can see that 'hereditary_diseases' variable with 'NoDisease' class have very low average claim amount than other diseases. We can also see that there is a little variance in average claim cost between 'hereditary_diseases'</li>\n",
    "<br>                       <li>The distribution of claim between the two categories, 'smoker'(1) and 'non-smoker'(0), are distinct enough to take smokers as a potentially good predictor of the claim amount. We can see that a 'non-smoker' has a median claim amount of around 10000 while a 'smoker' has a median claim of 40000.</li> <br>\n",
    "                        <li> Also diabetic people have slightly higher average claim amount than non-diabetic people </li><br>\n",
    "                        <li>This visualization helps us understand that there is a variance in average claim cost between different cities. However, the median claim cost is about 10000. As we can see, there are large number of cities and its not easy to interpret. Therefore we’ll combine all the cities into the region</li>\n",
    "                        </ul></b>\n",
    "                </font>\n",
    "            </div>\n",
    "        </td>\n",
    "    </tr>\n",
    "</table>\n"
   ]
  },
  {
   "cell_type": "markdown",
   "metadata": {
    "id": "HOGeAaC8n99m"
   },
   "source": [
    "<a id='Feature_Engineering'></a>\n",
    "### 4.1.8 Feature Engineering\n",
    "\n",
    "Create a new feature 'region' by combining the cities."
   ]
  },
  {
   "cell_type": "markdown",
   "metadata": {
    "id": "qf5Zdxsbn99m"
   },
   "source": [
    "**There are 91 unique cities. We will divide these cities into North-East, West, Mid-West, and South regions.**"
   ]
  },
  {
   "cell_type": "markdown",
   "metadata": {
    "id": "6jCyORQbn99m"
   },
   "source": [
    "Let's create a new variable region. We will replace the original variable `city` with it."
   ]
  },
  {
   "cell_type": "code",
   "execution_count": 26,
   "metadata": {
    "id": "JpEcT6-cn99m"
   },
   "outputs": [],
   "source": [
    "# create a region column and combine the north-east cities\n",
    "df_insurance['region'] = df_insurance['city'].replace(['NewYork', 'Boston', 'Phildelphia', 'Pittsburg', 'Buffalo',\n",
    "                                                       'AtlanticCity','Portland', 'Cambridge', 'Hartford', \n",
    "                                                       'Springfield', 'Syracuse', 'Baltimore', 'York', 'Trenton',\n",
    "                                                       'Warwick', 'WashingtonDC', 'Providence', 'Harrisburg',\n",
    "                                                       'Newport', 'Stamford', 'Worcester'],\n",
    "                                                      'North-East')"
   ]
  },
  {
   "cell_type": "code",
   "execution_count": 27,
   "metadata": {
    "id": "8mR5u2S0n99n"
   },
   "outputs": [],
   "source": [
    "# combine all the southern cities into the 'region' column\n",
    "df_insurance['region'] = df_insurance['region'].replace(['Atlanta', 'Brimingham', 'Charleston', 'Charlotte',\n",
    "                                                         'Louisville', 'Memphis', 'Nashville', 'NewOrleans',\n",
    "                                                         'Raleigh', 'Houston', 'Georgia', 'Oklahoma', 'Orlando',\n",
    "                                                         'Macon', 'Huntsville', 'Knoxville', 'Florence', 'Miami',\n",
    "                                                         'Tampa', 'PanamaCity', 'Kingsport', 'Marshall'],\n",
    "                                                         'Southern')"
   ]
  },
  {
   "cell_type": "code",
   "execution_count": 28,
   "metadata": {
    "id": "ohrLdWFHn99n"
   },
   "outputs": [],
   "source": [
    "# combine all the mid-west cities into the 'region' column\n",
    "df_insurance['region'] = df_insurance['region'].replace(['Mandan', 'Waterloo', 'IowaCity', 'Columbia',\n",
    "                                                         'Indianapolis', 'Cincinnati', 'Bloomington', 'Salina',\n",
    "                                                         'KanasCity', 'Brookings', 'Minot', 'Chicago', 'Lincoln',\n",
    "                                                         'FallsCity', 'GrandForks', 'Fargo', 'Cleveland', \n",
    "                                                         'Canton', 'Columbus', 'Rochester', 'Minneapolis', \n",
    "                                                         'JeffersonCity', 'Escabana','Youngstown'],\n",
    "                                                         'Mid-West')"
   ]
  },
  {
   "cell_type": "code",
   "execution_count": 29,
   "metadata": {
    "id": "ZqXsI5aRn99n"
   },
   "outputs": [],
   "source": [
    "# combine all the western cities into the 'region' column\n",
    "df_insurance['region'] = df_insurance['region'].replace(['SantaRosa', 'Eureka', 'SanFrancisco', 'SanJose',\n",
    "                                                         'LosAngeles', 'Oxnard', 'SanDeigo', 'Oceanside', \n",
    "                                                         'Carlsbad', 'Montrose', 'Prescott', 'Fresno', 'Reno',\n",
    "                                                         'LasVegas', 'Tucson', 'SanLuis', 'Denver', 'Kingman',\n",
    "                                                         'Bakersfield', 'Mexicali', 'SilverCity', 'Pheonix',\n",
    "                                                         'SantaFe', 'Lovelock'],\n",
    "                                                         'West')"
   ]
  },
  {
   "cell_type": "code",
   "execution_count": 30,
   "metadata": {
    "id": "TZOU8PE1n99n",
    "outputId": "29c48283-58ed-4286-a685-82968372e625"
   },
   "outputs": [
    {
     "data": {
      "text/plain": [
       "array(['North-East', 'Southern', 'Mid-West', 'West'], dtype=object)"
      ]
     },
     "execution_count": 30,
     "metadata": {},
     "output_type": "execute_result"
    }
   ],
   "source": [
    "# check the unique values of the region using 'unique()'\n",
    "df_insurance['region'].unique()"
   ]
  },
  {
   "cell_type": "code",
   "execution_count": 31,
   "metadata": {
    "id": "zZ3et6iSn99n",
    "outputId": "857e31e1-3b95-4d34-f8e6-c367063ebcb4"
   },
   "outputs": [
    {
     "data": {
      "text/plain": [
       "Southern      4444\n",
       "West          4273\n",
       "North-East    3471\n",
       "Mid-West      2812\n",
       "Name: region, dtype: int64"
      ]
     },
     "execution_count": 31,
     "metadata": {},
     "output_type": "execute_result"
    }
   ],
   "source": [
    "df_insurance['region'].value_counts()"
   ]
  },
  {
   "cell_type": "code",
   "execution_count": 32,
   "metadata": {
    "id": "rjXyo5Ohn99o"
   },
   "outputs": [],
   "source": [
    "# drop the 'city' variable from the dataset using drop()\n",
    "# axis=1: specifies that the column `city` is to be dropped\n",
    "df_insurance = df_insurance.drop(['city'], axis=1)"
   ]
  },
  {
   "cell_type": "markdown",
   "metadata": {
    "id": "XnQ9ZnE0n99o"
   },
   "source": [
    "Check whether the new variable added into the data frame or not."
   ]
  },
  {
   "cell_type": "code",
   "execution_count": 33,
   "metadata": {
    "id": "6QBTbspGn99o",
    "outputId": "5c0fb22d-d6c2-44bb-86d7-ddcbd007baa5",
    "scrolled": true
   },
   "outputs": [
    {
     "data": {
      "text/html": [
       "<div>\n",
       "<style scoped>\n",
       "    .dataframe tbody tr th:only-of-type {\n",
       "        vertical-align: middle;\n",
       "    }\n",
       "\n",
       "    .dataframe tbody tr th {\n",
       "        vertical-align: top;\n",
       "    }\n",
       "\n",
       "    .dataframe thead th {\n",
       "        text-align: right;\n",
       "    }\n",
       "</style>\n",
       "<table border=\"1\" class=\"dataframe\">\n",
       "  <thead>\n",
       "    <tr style=\"text-align: right;\">\n",
       "      <th></th>\n",
       "      <th>age</th>\n",
       "      <th>sex</th>\n",
       "      <th>weight</th>\n",
       "      <th>bmi</th>\n",
       "      <th>hereditary_diseases</th>\n",
       "      <th>no_of_dependents</th>\n",
       "      <th>smoker</th>\n",
       "      <th>bloodpressure</th>\n",
       "      <th>diabetes</th>\n",
       "      <th>regular_ex</th>\n",
       "      <th>job_title</th>\n",
       "      <th>claim</th>\n",
       "      <th>region</th>\n",
       "    </tr>\n",
       "  </thead>\n",
       "  <tbody>\n",
       "    <tr>\n",
       "      <th>0</th>\n",
       "      <td>60.000000</td>\n",
       "      <td>male</td>\n",
       "      <td>64</td>\n",
       "      <td>24.300000</td>\n",
       "      <td>NoDisease</td>\n",
       "      <td>1</td>\n",
       "      <td>0</td>\n",
       "      <td>72</td>\n",
       "      <td>0</td>\n",
       "      <td>0</td>\n",
       "      <td>Actor</td>\n",
       "      <td>13112.600000</td>\n",
       "      <td>North-East</td>\n",
       "    </tr>\n",
       "    <tr>\n",
       "      <th>1</th>\n",
       "      <td>49.000000</td>\n",
       "      <td>female</td>\n",
       "      <td>75</td>\n",
       "      <td>22.600000</td>\n",
       "      <td>NoDisease</td>\n",
       "      <td>1</td>\n",
       "      <td>0</td>\n",
       "      <td>78</td>\n",
       "      <td>1</td>\n",
       "      <td>1</td>\n",
       "      <td>Engineer</td>\n",
       "      <td>9567.000000</td>\n",
       "      <td>North-East</td>\n",
       "    </tr>\n",
       "    <tr>\n",
       "      <th>2</th>\n",
       "      <td>32.000000</td>\n",
       "      <td>female</td>\n",
       "      <td>64</td>\n",
       "      <td>17.800000</td>\n",
       "      <td>Epilepsy</td>\n",
       "      <td>2</td>\n",
       "      <td>1</td>\n",
       "      <td>88</td>\n",
       "      <td>1</td>\n",
       "      <td>1</td>\n",
       "      <td>Academician</td>\n",
       "      <td>32734.200000</td>\n",
       "      <td>North-East</td>\n",
       "    </tr>\n",
       "    <tr>\n",
       "      <th>3</th>\n",
       "      <td>61.000000</td>\n",
       "      <td>female</td>\n",
       "      <td>53</td>\n",
       "      <td>36.400000</td>\n",
       "      <td>NoDisease</td>\n",
       "      <td>1</td>\n",
       "      <td>1</td>\n",
       "      <td>72</td>\n",
       "      <td>1</td>\n",
       "      <td>0</td>\n",
       "      <td>Chef</td>\n",
       "      <td>48517.600000</td>\n",
       "      <td>North-East</td>\n",
       "    </tr>\n",
       "    <tr>\n",
       "      <th>4</th>\n",
       "      <td>19.000000</td>\n",
       "      <td>female</td>\n",
       "      <td>50</td>\n",
       "      <td>20.600000</td>\n",
       "      <td>NoDisease</td>\n",
       "      <td>0</td>\n",
       "      <td>0</td>\n",
       "      <td>82</td>\n",
       "      <td>1</td>\n",
       "      <td>0</td>\n",
       "      <td>HomeMakers</td>\n",
       "      <td>1731.700000</td>\n",
       "      <td>North-East</td>\n",
       "    </tr>\n",
       "  </tbody>\n",
       "</table>\n",
       "</div>"
      ],
      "text/plain": [
       "        age     sex  weight       bmi hereditary_diseases  no_of_dependents  \\\n",
       "0 60.000000    male      64 24.300000           NoDisease                 1   \n",
       "1 49.000000  female      75 22.600000           NoDisease                 1   \n",
       "2 32.000000  female      64 17.800000            Epilepsy                 2   \n",
       "3 61.000000  female      53 36.400000           NoDisease                 1   \n",
       "4 19.000000  female      50 20.600000           NoDisease                 0   \n",
       "\n",
       "  smoker  bloodpressure diabetes regular_ex    job_title        claim  \\\n",
       "0      0             72        0          0        Actor 13112.600000   \n",
       "1      0             78        1          1     Engineer  9567.000000   \n",
       "2      1             88        1          1  Academician 32734.200000   \n",
       "3      1             72        1          0         Chef 48517.600000   \n",
       "4      0             82        1          0   HomeMakers  1731.700000   \n",
       "\n",
       "       region  \n",
       "0  North-East  \n",
       "1  North-East  \n",
       "2  North-East  \n",
       "3  North-East  \n",
       "4  North-East  "
      ]
     },
     "execution_count": 33,
     "metadata": {},
     "output_type": "execute_result"
    }
   ],
   "source": [
    "# display the top 5 rows of the dataframe\n",
    "df_insurance.head()"
   ]
  },
  {
   "cell_type": "markdown",
   "metadata": {
    "id": "ofJhnVbmn99o"
   },
   "source": [
    "#### Analyze relationship between region and claim variable"
   ]
  },
  {
   "cell_type": "code",
   "execution_count": 34,
   "metadata": {
    "id": "alm7F2cGn99o",
    "outputId": "e4c0710f-54ef-407a-cf77-6ec901d9a9d9"
   },
   "outputs": [
    {
     "data": {
      "image/png": "[encoded data removed]",
      "text/plain": [
       "<Figure size 1080x576 with 1 Axes>"
      ]
     },
     "metadata": {
      "needs_background": "light"
     },
     "output_type": "display_data"
    }
   ],
   "source": [
    "# set figure size\n",
    "plt.figure(figsize=(15,8))\n",
    "\n",
    "# boxplot of claim against region\n",
    "# x: specifies the data on x axis\n",
    "# y: specifies the data on y axis\n",
    "# data: specifies the dataframe to be used\n",
    "ax = sns.boxplot(x=\"region\", y=\"claim\", data=df_insurance)\n",
    "\n",
    "# rotate labels using set_ticklabels\n",
    "# labels: specify the tick labels to be used\n",
    "# rotation: the angle by which tick labels should be rotated\n",
    "ax.set_xticklabels(labels=ax.get_xticklabels(), rotation=90)\n",
    "\n",
    "# show the plot\n",
    "plt.show()"
   ]
  },
  {
   "cell_type": "markdown",
   "metadata": {
    "id": "ug83OmTZn99o"
   },
   "source": [
    "The plot shows that there is not much significant difference in the variance of the insurance claim across the regions."
   ]
  },
  {
   "cell_type": "markdown",
   "metadata": {
    "id": "KvbDrzZpn99p"
   },
   "source": [
    "<a id='outliers'></a>\n",
    "### 4.1.9 Discover Outliers"
   ]
  },
  {
   "cell_type": "markdown",
   "metadata": {
    "id": "TRW0imnXn99p"
   },
   "source": [
    "<table align=\"left\">\n",
    "    <tr>\n",
    "        <td width=\"8%\">\n",
    "            <img src=\"alsoreadicon.png\">\n",
    "        </td>\n",
    "        <td>\n",
    "            <div align=\"left\", style=\"font-size:120%\">\n",
    "                <font color=\"#21618C\">\n",
    "                    <b>I love to know more:</b> <br><br>\n",
    "                    <a href=\"https://bit.ly/325NEKS\">1. Assumptions of Linear Regression <br>\n",
    "                    <a href=\"https://bit.ly/2PBvA8T\">2. Why Correlation does not Imply Causation <br>\n",
    "                </font>\n",
    "            </div>\n",
    "        </td>\n",
    "    </tr>\n",
    "</table>\n",
    "\n"
   ]
  },
  {
   "cell_type": "markdown",
   "metadata": {
    "id": "sKeKt-10n99p"
   },
   "source": [
    "#### Importance of detecting an outlier\n",
    "An outlier is an observation that appears to deviate distinctly from other observations in the data. If the outliers are not removed, the model accuracy may decrease.\n",
    "\n",
    "**Recollect that one of the assumptions of Linear Regression is there should be no outliers present in the data**"
   ]
  },
  {
   "cell_type": "markdown",
   "metadata": {
    "id": "IFWctXKhn99p"
   },
   "source": [
    "<table align=\"left\">\n",
    "    <tr>\n",
    "        <td width=\"8%\">\n",
    "            <img src=\"todo.png\">\n",
    "        </td>\n",
    "        <td>\n",
    "            <div align=\"left\", style=\"font-size:120%\">\n",
    "                <font color=\"#21618C\">\n",
    "                    <b>In order to detect outliers in numerical data, we perform the following:<br>\n",
    "                    1. Plot boxplot for numerical data<br>\n",
    "                    2. Note the variables for which outliers are present<br>\n",
    "                    3. Remove outliers by IQR method<br> \n",
    "                    4. Plot boxplot to recheck for outliers</b> <br><br>\n",
    "                </font>\n",
    "            </div>\n",
    "        </td>\n",
    "    </tr>\n",
    "</table>"
   ]
  },
  {
   "cell_type": "markdown",
   "metadata": {
    "id": "HcVyib6Sn99p"
   },
   "source": [
    "**1. Plot boxplot for numerical data**"
   ]
  },
  {
   "cell_type": "code",
   "execution_count": 35,
   "metadata": {
    "id": "bwlNoc2Dn99p",
    "outputId": "84eafd6a-f6da-4bc2-cb1a-8b56490e1fdc"
   },
   "outputs": [
    {
     "data": {
      "image/png": "[encoded data removed]",
      "text/plain": [
       "<Figure size 1080x576 with 1 Axes>"
      ]
     },
     "metadata": {
      "needs_background": "light"
     },
     "output_type": "display_data"
    }
   ],
   "source": [
    "# set the plot size\n",
    "plt.rcParams['figure.figsize']=(15,8)\n",
    "\n",
    "# create a boxplot for all numeric features\n",
    "# column: selects the specified columns\n",
    "df_numeric_features.boxplot(column=['bmi', 'weight','no_of_dependents', 'bloodpressure', 'age'])\n",
    "\n",
    "# to display the plot\n",
    "plt.show()"
   ]
  },
  {
   "cell_type": "markdown",
   "metadata": {
    "id": "ifFGmjlen99p"
   },
   "source": [
    "**2. Note the variables for which outliers are present**"
   ]
  },
  {
   "cell_type": "markdown",
   "metadata": {
    "id": "QfnG4sL8n99p"
   },
   "source": [
    "<table align=\"left\">\n",
    "    <tr>\n",
    "        <td width=\"8%\">\n",
    "            <img src=\"infer.png\">\n",
    "        </td>\n",
    "        <td>\n",
    "            <div align=\"left\", style=\"font-size:120%\">\n",
    "                <font color=\"#21618C\">\n",
    "                    <b>From the above plot, we notice that for the variable 'bmi' and 'bloodpressure' there are points above the upper extreme - these points are outliers<br>\n",
    "\n",
    "Let us use the IQR method to remove the outliers</br></b>\n",
    "                </font>\n",
    "            </div>\n",
    "        </td>\n",
    "    </tr>\n",
    "</table>\n",
    "\n"
   ]
  },
  {
   "cell_type": "markdown",
   "metadata": {
    "id": "LNMpso74n99p"
   },
   "source": [
    "<table align=\"left\">\n",
    "    <tr>\n",
    "        <td width=\"8%\">\n",
    "            <img src=\"quicktip.png\">\n",
    "        </td>\n",
    "        <td>\n",
    "            <div align=\"left\", style=\"font-size:120%\">\n",
    "                <font color=\"#21618C\">\n",
    "                    <b>Outliers can also be detected using standard deviation method if we know that the distribution of values in the sample is Gaussian or Gaussian-like</b> <br><br>\n",
    "                </font>\n",
    "            </div>\n",
    "        </td>\n",
    "    </tr>\n",
    "</table>"
   ]
  },
  {
   "cell_type": "markdown",
   "metadata": {
    "id": "KqjGzElen99q"
   },
   "source": [
    "<table align=\"left\">\n",
    "    <tr>\n",
    "        <td width=\"8%\">\n",
    "            <img src=\"alsoreadicon.png\">\n",
    "        </td>\n",
    "        <td>\n",
    "            <div align=\"left\", style=\"font-size:120%\">\n",
    "                <font color=\"#21618C\">\n",
    "                    <b>I love to know more:  </b><a href=\"https://bit.ly/33bgNpq\">How to use Statistics to Identify Outliers in Data\n",
    "\n",
    "</font>\n",
    "            </div>\n",
    "        </td>\n",
    "    </tr>\n",
    "</table>\n",
    "\n"
   ]
  },
  {
   "cell_type": "markdown",
   "metadata": {
    "id": "xJXjSIt9n99q"
   },
   "source": [
    "**3. Remove outliers by IQR method**"
   ]
  },
  {
   "cell_type": "code",
   "execution_count": 36,
   "metadata": {
    "id": "24D2foCjn99q",
    "outputId": "6fdd5d2e-4192-481a-b0a5-0f7f87bd7427"
   },
   "outputs": [
    {
     "name": "stdout",
     "output_type": "stream",
     "text": [
      "age                24.000000\n",
      "weight             22.000000\n",
      "bmi                 8.200000\n",
      "no_of_dependents    2.000000\n",
      "bloodpressure      16.000000\n",
      "dtype: float64\n"
     ]
    }
   ],
   "source": [
    "# calculate interquartile range \n",
    "\n",
    "# compute the first quartile using quantile(0.25)\n",
    "# use .drop() to drop the target variable \n",
    "# axis=1: specifies that the labels are dropped from the columns\n",
    "Q1 = df_numeric_features.drop(['claim'], axis=1).quantile(0.25)\n",
    "\n",
    "# compute the first quartile using quantile(0.75)\n",
    "# use .drop() to drop the target variable \n",
    "# axis=1: specifies that the labels are dropped from the columns\n",
    "Q3 = df_numeric_features.drop(['claim'], axis=1).quantile(0.75)\n",
    "\n",
    "# calculate of interquartile range \n",
    "IQR = Q3 - Q1\n",
    "\n",
    "# print the IQR values for numeric variables\n",
    "print(IQR)"
   ]
  },
  {
   "cell_type": "code",
   "execution_count": 37,
   "metadata": {
    "id": "O4RB82G_n99q"
   },
   "outputs": [],
   "source": [
    "# filter out the outlier values\n",
    "# ~ : selects all rows which do not satisfy the condition\n",
    "# |: bitwise operator OR in python\n",
    "# any() : returns whether any element is True over the columns\n",
    "# axis : \"1\" indicates columns should be altered (use \"0\" for 'index')\n",
    "df_insurance = df_insurance[~((df_insurance < (Q1 - 1.5 * IQR)) | (df_insurance > (Q3 + 1.5 * IQR))).any(axis=1)]"
   ]
  },
  {
   "cell_type": "markdown",
   "metadata": {
    "id": "Ll9ed-crn99q"
   },
   "source": [
    "A simple way to know whether the outliers have been removed or not is to check the dimensions of the data. If the dimensions are reduced that implies outliers are removed"
   ]
  },
  {
   "cell_type": "code",
   "execution_count": 38,
   "metadata": {
    "id": "Urbwxi3zn99q",
    "outputId": "b9ab2481-9dad-4643-f8f4-9666b17ff3a7",
    "scrolled": true
   },
   "outputs": [
    {
     "data": {
      "text/plain": [
       "(14723, 13)"
      ]
     },
     "execution_count": 38,
     "metadata": {},
     "output_type": "execute_result"
    }
   ],
   "source": [
    "# check the shape of data using shape\n",
    "df_insurance.shape"
   ]
  },
  {
   "cell_type": "markdown",
   "metadata": {
    "id": "bUJE61PNn99q"
   },
   "source": [
    "<table align=\"left\">\n",
    "    <tr>\n",
    "        <td width=\"8%\">\n",
    "            <img src=\"infer.png\">\n",
    "        </td>\n",
    "        <td>\n",
    "            <div align=\"left\", style=\"font-size:120%\">\n",
    "                <font color=\"#21618C\">\n",
    "                    <b>So that the above output shows there is a reduction in the number of rows(from 15000 to 14723). Now, to confirm that the outliers have been removed let us visualize using a boxplot.</b>\n",
    "                </font>\n",
    "            </div>\n",
    "        </td>\n",
    "    </tr>\n",
    "</table>"
   ]
  },
  {
   "cell_type": "markdown",
   "metadata": {
    "id": "UqQ-xYJ0n99r"
   },
   "source": [
    "**4. Plot boxplot to recheck for outliers**"
   ]
  },
  {
   "cell_type": "code",
   "execution_count": 39,
   "metadata": {
    "id": "ADz6AFZWn99r",
    "outputId": "3747f36d-2519-4940-c318-99f250f9b3a6",
    "scrolled": false
   },
   "outputs": [
    {
     "data": {
      "image/png": "[encoded data removed]",
      "text/plain": [
       "<Figure size 1080x576 with 1 Axes>"
      ]
     },
     "metadata": {
      "needs_background": "light"
     },
     "output_type": "display_data"
    }
   ],
   "source": [
    "# set figure size \n",
    "plt.rcParams['figure.figsize']=(15,8)\n",
    "\n",
    "# recheck for outliers\n",
    "# column: selects the specifies columns\n",
    "df_insurance.boxplot(column=['bmi', 'weight','no_of_dependents', 'bloodpressure', 'age'])\n",
    "\n",
    "# display only the plot\n",
    "plt.show()"
   ]
  },
  {
   "cell_type": "markdown",
   "metadata": {
    "id": "Ve0iUHKrn99u"
   },
   "source": [
    "Observing the range of the boxplot, we say that the outliers are removed from the original data. The new 'outliers' that you see are moderate outliers that lie within the min/max range before removing the actual outliers"
   ]
  },
  {
   "cell_type": "markdown",
   "metadata": {
    "id": "mOPyYBDgn99u"
   },
   "source": [
    "<a id='Recheck_Correlation'></a>\n",
    "### 4.1.10 Recheck the Correlation\n",
    "Recheck the correlation after treating outliers. An outlier might either decrease or increase a correlation coefficient, depending on where it is in relation to the other points"
   ]
  },
  {
   "cell_type": "markdown",
   "metadata": {
    "id": "0hB7s-jHn99u"
   },
   "source": [
    "<table align=\"left\">\n",
    "    <tr>\n",
    "        <td width=\"8%\">\n",
    "            <img src=\"todo.png\">\n",
    "        </td>\n",
    "        <td>\n",
    "            <div align=\"left\", style=\"font-size:120%\">\n",
    "                <font color=\"#21618C\">\n",
    "                    <b>Recheck the correlation after removing the outliers:<br>\n",
    "                    1. Filter out only the numeric variables from the dataframe<br>\n",
    "                    2. Call the corr() function which will return the correlation matrix of numeric variables <br>\n",
    "                    3. Pass the correlation matrix to the heatmap() function of the seaborn library to plot the heatmap of the correlation matrix\n",
    "                    </b>\n",
    "                </font>\n",
    "            </div>\n",
    "        </td>\n",
    "    </tr>\n",
    "</table>"
   ]
  },
  {
   "cell_type": "markdown",
   "metadata": {
    "id": "zbnsPNLrn99u"
   },
   "source": [
    "**1. Filter out only the numeric variables from the dataframe**"
   ]
  },
  {
   "cell_type": "code",
   "execution_count": 40,
   "metadata": {
    "id": "80pVjE7yn99u",
    "outputId": "f43ed835-b849-473d-d2b1-eb60a69b0671"
   },
   "outputs": [
    {
     "data": {
      "text/plain": [
       "Index(['age', 'weight', 'bmi', 'no_of_dependents', 'bloodpressure', 'claim'], dtype='object')"
      ]
     },
     "execution_count": 40,
     "metadata": {},
     "output_type": "execute_result"
    }
   ],
   "source": [
    "# filter the numerical features in the dataset\n",
    "# include=np.number: selects the numeric features\n",
    "df_numeric_features = df_insurance.select_dtypes(include=np.number)\n",
    "\n",
    "# display the numeric features\n",
    "df_numeric_features.columns"
   ]
  },
  {
   "cell_type": "markdown",
   "metadata": {
    "id": "Eo4R_H3Vn99v"
   },
   "source": [
    "**2.  Call the corr() function which will return the correlation matrix of numeric variables**"
   ]
  },
  {
   "cell_type": "code",
   "execution_count": 41,
   "metadata": {
    "id": "SZnaNfBPn99v",
    "outputId": "bb1ae797-d03e-4e46-a16f-64b2ab934c02"
   },
   "outputs": [
    {
     "data": {
      "text/html": [
       "<div>\n",
       "<style scoped>\n",
       "    .dataframe tbody tr th:only-of-type {\n",
       "        vertical-align: middle;\n",
       "    }\n",
       "\n",
       "    .dataframe tbody tr th {\n",
       "        vertical-align: top;\n",
       "    }\n",
       "\n",
       "    .dataframe thead th {\n",
       "        text-align: right;\n",
       "    }\n",
       "</style>\n",
       "<table border=\"1\" class=\"dataframe\">\n",
       "  <thead>\n",
       "    <tr style=\"text-align: right;\">\n",
       "      <th></th>\n",
       "      <th>age</th>\n",
       "      <th>weight</th>\n",
       "      <th>bmi</th>\n",
       "      <th>no_of_dependents</th>\n",
       "      <th>bloodpressure</th>\n",
       "      <th>claim</th>\n",
       "    </tr>\n",
       "  </thead>\n",
       "  <tbody>\n",
       "    <tr>\n",
       "      <th>age</th>\n",
       "      <td>1.000000</td>\n",
       "      <td>0.282136</td>\n",
       "      <td>0.196479</td>\n",
       "      <td>0.056423</td>\n",
       "      <td>0.023431</td>\n",
       "      <td>0.301544</td>\n",
       "    </tr>\n",
       "    <tr>\n",
       "      <th>weight</th>\n",
       "      <td>0.282136</td>\n",
       "      <td>1.000000</td>\n",
       "      <td>0.237473</td>\n",
       "      <td>0.134033</td>\n",
       "      <td>0.009877</td>\n",
       "      <td>0.080363</td>\n",
       "    </tr>\n",
       "    <tr>\n",
       "      <th>bmi</th>\n",
       "      <td>0.196479</td>\n",
       "      <td>0.237473</td>\n",
       "      <td>1.000000</td>\n",
       "      <td>0.044997</td>\n",
       "      <td>-0.055260</td>\n",
       "      <td>0.196193</td>\n",
       "    </tr>\n",
       "    <tr>\n",
       "      <th>no_of_dependents</th>\n",
       "      <td>0.056423</td>\n",
       "      <td>0.134033</td>\n",
       "      <td>0.044997</td>\n",
       "      <td>1.000000</td>\n",
       "      <td>0.027358</td>\n",
       "      <td>0.077775</td>\n",
       "    </tr>\n",
       "    <tr>\n",
       "      <th>bloodpressure</th>\n",
       "      <td>0.023431</td>\n",
       "      <td>0.009877</td>\n",
       "      <td>-0.055260</td>\n",
       "      <td>0.027358</td>\n",
       "      <td>1.000000</td>\n",
       "      <td>0.036679</td>\n",
       "    </tr>\n",
       "    <tr>\n",
       "      <th>claim</th>\n",
       "      <td>0.301544</td>\n",
       "      <td>0.080363</td>\n",
       "      <td>0.196193</td>\n",
       "      <td>0.077775</td>\n",
       "      <td>0.036679</td>\n",
       "      <td>1.000000</td>\n",
       "    </tr>\n",
       "  </tbody>\n",
       "</table>\n",
       "</div>"
      ],
      "text/plain": [
       "                      age   weight       bmi  no_of_dependents  bloodpressure  \\\n",
       "age              1.000000 0.282136  0.196479          0.056423       0.023431   \n",
       "weight           0.282136 1.000000  0.237473          0.134033       0.009877   \n",
       "bmi              0.196479 0.237473  1.000000          0.044997      -0.055260   \n",
       "no_of_dependents 0.056423 0.134033  0.044997          1.000000       0.027358   \n",
       "bloodpressure    0.023431 0.009877 -0.055260          0.027358       1.000000   \n",
       "claim            0.301544 0.080363  0.196193          0.077775       0.036679   \n",
       "\n",
       "                    claim  \n",
       "age              0.301544  \n",
       "weight           0.080363  \n",
       "bmi              0.196193  \n",
       "no_of_dependents 0.077775  \n",
       "bloodpressure    0.036679  \n",
       "claim            1.000000  "
      ]
     },
     "execution_count": 41,
     "metadata": {},
     "output_type": "execute_result"
    }
   ],
   "source": [
    "# generate the correlation matrix \n",
    "corr =  df_numeric_features.corr()\n",
    "\n",
    "# print the correlation matrix\n",
    "corr"
   ]
  },
  {
   "cell_type": "markdown",
   "metadata": {
    "id": "fpPMNJxWn99y"
   },
   "source": [
    "**3. Pass the correlation matrix to the heatmap() function of the seaborn library to plot the heatmap of the correlation matrix**"
   ]
  },
  {
   "cell_type": "code",
   "execution_count": 42,
   "metadata": {
    "id": "wTNTTdTqn99z",
    "outputId": "aa10537c-4ffb-4e68-9038-3385f844068a",
    "scrolled": false
   },
   "outputs": [
    {
     "data": {
      "image/png": "[encoded data removed]",
      "text/plain": [
       "<Figure size 1080x576 with 2 Axes>"
      ]
     },
     "metadata": {
      "needs_background": "light"
     },
     "output_type": "display_data"
    }
   ],
   "source": [
    "# set the figure size\n",
    "plt.figure(figsize=(15, 8))\n",
    "\n",
    "# plot the heat map\n",
    "# corr: give the correlation matrix\n",
    "# cmap: colour code used for plotting\n",
    "# vmax: gives maximum range of values for the chart\n",
    "# vmin: gives minimum range of values for the chart\n",
    "# annot: prints the correlation values in the chart\n",
    "# annot_kws: sets the font size of the annotation\n",
    "sns.heatmap(corr, cmap='YlGnBu', vmax=1.0, vmin=-1.0, annot = True, annot_kws={\"size\": 15})\n",
    "\n",
    "# specify name of the plot\n",
    "plt.title('Correlation between numeric features')\n",
    "\n",
    "# display the plot\n",
    "plt.show()"
   ]
  },
  {
   "cell_type": "markdown",
   "metadata": {
    "id": "toXWVTX0n99z"
   },
   "source": [
    "<table align=\"left\">\n",
    "    <tr>\n",
    "        <td width=\"8%\">\n",
    "            <img src=\"infer.png\">\n",
    "        </td>\n",
    "        <td>\n",
    "            <div align=\"left\", style=\"font-size:120%\">\n",
    "                <font color=\"#21618C\">\n",
    "                    <b>It is seen that the numeric variables are not correlated with each other even after removing the outliers since all the correlation coefficients are close to zero. It implies that there is no multicollinearity in the data <br><br>\n",
    "                       <br></b>\n",
    "                </font>\n",
    "            </div>\n",
    "        </td>\n",
    "    </tr>\n",
    "</table>"
   ]
  },
  {
   "cell_type": "markdown",
   "metadata": {
    "id": "SyKejzE0n99z"
   },
   "source": [
    "<a id='Data_Preparation'></a>\n",
    "## 4.2 Prepare the Data"
   ]
  },
  {
   "cell_type": "markdown",
   "metadata": {
    "id": "2nEwH8Dan99z"
   },
   "source": [
    "<a id='Normality'></a>\n",
    "### 4.2.1 Check for Normality"
   ]
  },
  {
   "cell_type": "markdown",
   "metadata": {
    "id": "KQYCjgsin99z"
   },
   "source": [
    "As per the assumptions of linear regression, residuals (actual values - predicted values) should be normally distributed. If the target variable is normally distributed then the residuals are also normally distributed, thus we check the normality only for target variable."
   ]
  },
  {
   "cell_type": "markdown",
   "metadata": {
    "id": "Otq-oh5Nn99z"
   },
   "source": [
    "<table align=\"left\">\n",
    "    <tr>\n",
    "        <td width=\"8%\">\n",
    "            <img src=\"todo.png\">\n",
    "        </td>\n",
    "        <td>\n",
    "            <div align=\"left\", style=\"font-size:120%\">\n",
    "                <font color=\"#21618C\">\n",
    "                    <b> In order to check for normality of our target variable, <br>\n",
    "                        1. Plot a histogram and also perform the Jarque-Bera test <br>\n",
    "                        2. If the data is not normally distributed, use log transformation to get near normally distributed data <br>\n",
    "                        3. Recheck for normality by plotting histogram and performing Jarque-Bera test\n",
    "                    </b>\n",
    "                </font>\n",
    "            </div>\n",
    "        </td>\n",
    "    </tr>\n",
    "</table>\n",
    "\n",
    "\n"
   ]
  },
  {
   "cell_type": "markdown",
   "metadata": {
    "id": "zeocW-vNn990"
   },
   "source": [
    "**1. Plot a histogram and also perform the Jarque-Bera test**"
   ]
  },
  {
   "cell_type": "markdown",
   "metadata": {
    "id": "MI5ezjfBn990"
   },
   "source": [
    "To plot a histogram, we use the hist() function from the matplotlib library"
   ]
  },
  {
   "cell_type": "code",
   "execution_count": 43,
   "metadata": {
    "id": "BGFks9IWn990",
    "outputId": "efb0daf5-caa7-463e-e7b2-6eec30c70d6f"
   },
   "outputs": [
    {
     "data": {
      "image/png": "[encoded data removed]",
      "text/plain": [
       "<Figure size 1080x576 with 1 Axes>"
      ]
     },
     "metadata": {
      "needs_background": "light"
     },
     "output_type": "display_data"
    }
   ],
   "source": [
    "# check the distribution of target variable using hist()\n",
    "df_insurance.claim.hist()\n",
    "\n",
    "# display the plot\n",
    "plt.show()"
   ]
  },
  {
   "cell_type": "markdown",
   "metadata": {
    "id": "d66cHwnUn990"
   },
   "source": [
    "<table align=\"left\">\n",
    "    <tr>\n",
    "        <td width=\"8%\">\n",
    "            <img src=\"infer.png\">\n",
    "        </td>\n",
    "        <td>\n",
    "            <div align=\"left\", style=\"font-size:120%\">\n",
    "                <font color=\"#21618C\">\n",
    "                    <b>From the above plot, we can notice that the variable 'claim' is heavily right skewed and not normally distributed<br>\n",
    "<br></b>\n",
    "                </font>\n",
    "            </div>\n",
    "        </td>\n",
    "    </tr>\n",
    "</table>\n",
    "\n",
    "\n"
   ]
  },
  {
   "cell_type": "markdown",
   "metadata": {
    "id": "IiB8_frkn990"
   },
   "source": [
    "<table align=\"left\">\n",
    "    <tr>\n",
    "        <td width=\"8%\">\n",
    "            <img src=\"quicktip.png\">\n",
    "        </td>\n",
    "        <td>\n",
    "            <div align=\"left\", style=\"font-size:120%\">\n",
    "                <font color=\"#21618C\">\n",
    "                    <b>We should not only make conclusions through visual representations or only using a statistical test but perform multiple ways to get the best insights</b>\n",
    "                </font>\n",
    "            </div>\n",
    "        </td>\n",
    "    </tr>\n",
    "</table>"
   ]
  },
  {
   "cell_type": "markdown",
   "metadata": {
    "id": "iiyQ7t0Wn990"
   },
   "source": [
    "Let us perform the Jarque-Bera test to check the normality of the target variable."
   ]
  },
  {
   "cell_type": "markdown",
   "metadata": {
    "id": "noJLk9Nwn990"
   },
   "source": [
    "The null and alternate hypothesis of Jarque-Bera test are as follows: <br>\n",
    "    \n",
    "    H0: The data is normally distributed\n",
    "    H1: The data is not normally distributed"
   ]
  },
  {
   "cell_type": "code",
   "execution_count": 44,
   "metadata": {
    "id": "kqngzkhEn990",
    "outputId": "fa834825-8228-43fc-8f7b-12a39c4a9310"
   },
   "outputs": [
    {
     "name": "stdout",
     "output_type": "stream",
     "text": [
      "Statistics=6571.030, p-value=0.000\n",
      "The data is not normally distributed (reject H0)\n"
     ]
    }
   ],
   "source": [
    "# normality test using jarque_bera()\n",
    "# the test returns the the test statistics and the p-value of the test\n",
    "stat, p = jarque_bera(df_insurance[\"claim\"])\n",
    "\n",
    "# to print the numeric outputs of the Jarque-Bera test upto 3 decimal places\n",
    "# %.3f: returns the a floating point with 3 decimal digit accuracy\n",
    "# the '%' holds the place where the number is to be printed\n",
    "print('Statistics=%.3f, p-value=%.3f' % (stat, p))\n",
    "\n",
    "# display the conclusion\n",
    "# set the level of significance to 0.05\n",
    "alpha = 0.05\n",
    "\n",
    "# if the p-value is greater than alpha print we accept alpha \n",
    "# if the p-value is less than alpha print we reject alpha\n",
    "if p > alpha:\n",
    "    print('The data is normally distributed (fail to reject H0)')\n",
    "else:\n",
    "    print('The data is not normally distributed (reject H0)')"
   ]
  },
  {
   "cell_type": "markdown",
   "metadata": {
    "id": "4tP1jPn6n991"
   },
   "source": [
    "<table align=\"left\">\n",
    "    <tr>\n",
    "        <td width=\"8%\">\n",
    "            <img src=\"infer.png\">\n",
    "        </td>\n",
    "        <td>\n",
    "            <div align=\"left\", style=\"font-size:120%\">\n",
    "                <font color=\"#21618C\">\n",
    "                    <b>It is apparent that the p-value is less than 0.05. So we have enough evidence to reject the null hypothesis. It can be concluded that the data is not normally distributed.<br><br>\n",
    "                        Now we opt for log transformation in order to reduce the skewness. We will log transform the claim variable. <br></b>\n",
    "                </font>\n",
    "            </div>\n",
    "        </td>\n",
    "    </tr>\n",
    "</table>\n"
   ]
  },
  {
   "cell_type": "markdown",
   "metadata": {
    "id": "j-bkDbsWn991"
   },
   "source": [
    "<table align=\"left\">\n",
    "    <tr>\n",
    "        <td width=\"8%\">\n",
    "            <img src=\"quicktip.png\">\n",
    "        </td>\n",
    "        <td>\n",
    "            <div align=\"left\", style=\"font-size:120%\">\n",
    "                <font color=\"#21618C\">\n",
    "                    <b>Usually for testing the normality of data, the Shaprio Wilk Test is used. However, it does not work if the number of observations are more than 5000 inspite it being more robust than other tests. In case where the observations are more than 5000, other tests like Anderson Darling test or Jarque Bera test may also be used. So we have used Jarque Bera test</b>\n",
    "</b>\n",
    "                </font>\n",
    "            </div>\n",
    "        </td>\n",
    "    </tr>\n",
    "</table>"
   ]
  },
  {
   "cell_type": "markdown",
   "metadata": {
    "id": "Akx86Jy5n991"
   },
   "source": [
    "**2. If the data is not normally distributed, use log transformation to get near normally distributed data**\n",
    "\n",
    "As mentioned above we opt for log transformation. The log transformation can be used to make highly skewed distributions less skewed. We use np.log() to log transform the 'claim' variable. We also store the transformed variable into our data frame with a new name, 'log_claim'."
   ]
  },
  {
   "cell_type": "code",
   "execution_count": 45,
   "metadata": {
    "id": "q-HW6_sUn991",
    "outputId": "b0acebc8-5759-4d5e-d7ca-1b69643b35fd"
   },
   "outputs": [
    {
     "data": {
      "text/html": [
       "<div>\n",
       "<style scoped>\n",
       "    .dataframe tbody tr th:only-of-type {\n",
       "        vertical-align: middle;\n",
       "    }\n",
       "\n",
       "    .dataframe tbody tr th {\n",
       "        vertical-align: top;\n",
       "    }\n",
       "\n",
       "    .dataframe thead th {\n",
       "        text-align: right;\n",
       "    }\n",
       "</style>\n",
       "<table border=\"1\" class=\"dataframe\">\n",
       "  <thead>\n",
       "    <tr style=\"text-align: right;\">\n",
       "      <th></th>\n",
       "      <th>age</th>\n",
       "      <th>sex</th>\n",
       "      <th>weight</th>\n",
       "      <th>bmi</th>\n",
       "      <th>hereditary_diseases</th>\n",
       "      <th>no_of_dependents</th>\n",
       "      <th>smoker</th>\n",
       "      <th>bloodpressure</th>\n",
       "      <th>diabetes</th>\n",
       "      <th>regular_ex</th>\n",
       "      <th>job_title</th>\n",
       "      <th>claim</th>\n",
       "      <th>region</th>\n",
       "      <th>log_claim</th>\n",
       "    </tr>\n",
       "  </thead>\n",
       "  <tbody>\n",
       "    <tr>\n",
       "      <th>0</th>\n",
       "      <td>60.000000</td>\n",
       "      <td>male</td>\n",
       "      <td>64</td>\n",
       "      <td>24.300000</td>\n",
       "      <td>NoDisease</td>\n",
       "      <td>1</td>\n",
       "      <td>0</td>\n",
       "      <td>72</td>\n",
       "      <td>0</td>\n",
       "      <td>0</td>\n",
       "      <td>Actor</td>\n",
       "      <td>13112.600000</td>\n",
       "      <td>North-East</td>\n",
       "      <td>9.481329</td>\n",
       "    </tr>\n",
       "    <tr>\n",
       "      <th>1</th>\n",
       "      <td>49.000000</td>\n",
       "      <td>female</td>\n",
       "      <td>75</td>\n",
       "      <td>22.600000</td>\n",
       "      <td>NoDisease</td>\n",
       "      <td>1</td>\n",
       "      <td>0</td>\n",
       "      <td>78</td>\n",
       "      <td>1</td>\n",
       "      <td>1</td>\n",
       "      <td>Engineer</td>\n",
       "      <td>9567.000000</td>\n",
       "      <td>North-East</td>\n",
       "      <td>9.166075</td>\n",
       "    </tr>\n",
       "    <tr>\n",
       "      <th>2</th>\n",
       "      <td>32.000000</td>\n",
       "      <td>female</td>\n",
       "      <td>64</td>\n",
       "      <td>17.800000</td>\n",
       "      <td>Epilepsy</td>\n",
       "      <td>2</td>\n",
       "      <td>1</td>\n",
       "      <td>88</td>\n",
       "      <td>1</td>\n",
       "      <td>1</td>\n",
       "      <td>Academician</td>\n",
       "      <td>32734.200000</td>\n",
       "      <td>North-East</td>\n",
       "      <td>10.396176</td>\n",
       "    </tr>\n",
       "    <tr>\n",
       "      <th>3</th>\n",
       "      <td>61.000000</td>\n",
       "      <td>female</td>\n",
       "      <td>53</td>\n",
       "      <td>36.400000</td>\n",
       "      <td>NoDisease</td>\n",
       "      <td>1</td>\n",
       "      <td>1</td>\n",
       "      <td>72</td>\n",
       "      <td>1</td>\n",
       "      <td>0</td>\n",
       "      <td>Chef</td>\n",
       "      <td>48517.600000</td>\n",
       "      <td>North-East</td>\n",
       "      <td>10.789682</td>\n",
       "    </tr>\n",
       "    <tr>\n",
       "      <th>4</th>\n",
       "      <td>19.000000</td>\n",
       "      <td>female</td>\n",
       "      <td>50</td>\n",
       "      <td>20.600000</td>\n",
       "      <td>NoDisease</td>\n",
       "      <td>0</td>\n",
       "      <td>0</td>\n",
       "      <td>82</td>\n",
       "      <td>1</td>\n",
       "      <td>0</td>\n",
       "      <td>HomeMakers</td>\n",
       "      <td>1731.700000</td>\n",
       "      <td>North-East</td>\n",
       "      <td>7.456859</td>\n",
       "    </tr>\n",
       "  </tbody>\n",
       "</table>\n",
       "</div>"
      ],
      "text/plain": [
       "        age     sex  weight       bmi hereditary_diseases  no_of_dependents  \\\n",
       "0 60.000000    male      64 24.300000           NoDisease                 1   \n",
       "1 49.000000  female      75 22.600000           NoDisease                 1   \n",
       "2 32.000000  female      64 17.800000            Epilepsy                 2   \n",
       "3 61.000000  female      53 36.400000           NoDisease                 1   \n",
       "4 19.000000  female      50 20.600000           NoDisease                 0   \n",
       "\n",
       "  smoker  bloodpressure diabetes regular_ex    job_title        claim  \\\n",
       "0      0             72        0          0        Actor 13112.600000   \n",
       "1      0             78        1          1     Engineer  9567.000000   \n",
       "2      1             88        1          1  Academician 32734.200000   \n",
       "3      1             72        1          0         Chef 48517.600000   \n",
       "4      0             82        1          0   HomeMakers  1731.700000   \n",
       "\n",
       "       region  log_claim  \n",
       "0  North-East   9.481329  \n",
       "1  North-East   9.166075  \n",
       "2  North-East  10.396176  \n",
       "3  North-East  10.789682  \n",
       "4  North-East   7.456859  "
      ]
     },
     "execution_count": 45,
     "metadata": {},
     "output_type": "execute_result"
    }
   ],
   "source": [
    "# log transformation for normality using np.log()\n",
    "df_insurance['log_claim'] = np.log(df_insurance['claim'])\n",
    "\n",
    "# display first 5 rows of the data\n",
    "df_insurance.head()"
   ]
  },
  {
   "cell_type": "markdown",
   "metadata": {
    "id": "-PrCHLh_n991"
   },
   "source": [
    "**3. Recheck for normality by plotting histogram and performing Jarque-Bera test**\n",
    "\n",
    "Let us first plot a histogram of `log_claim`"
   ]
  },
  {
   "cell_type": "code",
   "execution_count": 46,
   "metadata": {
    "id": "__k2wEpen991",
    "outputId": "258a6125-50f7-45eb-92b3-4d17667dba03",
    "scrolled": true
   },
   "outputs": [
    {
     "data": {
      "image/png": "[encoded data removed]",
      "text/plain": [
       "<Figure size 1080x576 with 1 Axes>"
      ]
     },
     "metadata": {
      "needs_background": "light"
     },
     "output_type": "display_data"
    }
   ],
   "source": [
    "# recheck for normality \n",
    "# plot the histogram using hist\n",
    "df_insurance.log_claim.hist()\n",
    "\n",
    "# display the plot\n",
    "plt.show()"
   ]
  },
  {
   "cell_type": "markdown",
   "metadata": {
    "id": "D_GbDrgKn992"
   },
   "source": [
    "<table align=\"left\">\n",
    "    <tr>\n",
    "        <td width=\"8%\">\n",
    "            <img src=\"infer.png\">\n",
    "        </td>\n",
    "        <td>\n",
    "            <div align=\"left\", style=\"font-size:120%\">\n",
    "                <font color=\"#21618C\">\n",
    "                    <b>It can be seen that the variable claim is near normally distributed. However we again confirm by Jarque Bera test</b>\n",
    "                </font>\n",
    "            </div>\n",
    "        </td>\n",
    "    </tr>\n",
    "</table>"
   ]
  },
  {
   "cell_type": "markdown",
   "metadata": {
    "id": "5Mq3YanCn992"
   },
   "source": [
    "Let us perform Jarque Bera test"
   ]
  },
  {
   "cell_type": "code",
   "execution_count": 47,
   "metadata": {
    "id": "5lqkitMRn992",
    "outputId": "66fa58bc-21ef-449e-e26a-a90dcd5d9156"
   },
   "outputs": [
    {
     "name": "stdout",
     "output_type": "stream",
     "text": [
      "Statistics=6571.030, p-value=0.000\n",
      "The data is not normally distributed (reject H0)\n"
     ]
    }
   ],
   "source": [
    "# recheck normality by Jarque-Bera test\n",
    "# the test returns the the test statistics and the p-value of the test\n",
    "statn, pv = jarque_bera(df_insurance['log_claim'])\n",
    "\n",
    "# to print the numeric outputs of the Jarque-Bera test upto 3 decimal places\n",
    "# %.3f: returns the a floating point with 3 decimal digit accuracy\n",
    "# the '%' holds the place where the number is to be printed\n",
    "print('Statistics=%.3f, p-value=%.3f' % (stat, p))\n",
    "\n",
    "# display the conclusion\n",
    "# set the level of significance to 0.05\n",
    "alpha = 0.05\n",
    "\n",
    "# if the p-value is greater than alpha print we accept alpha \n",
    "# if the p-value is less than alpha print we reject alpha\n",
    "if p > alpha:\n",
    "    print('The data is normally distributed (fail to reject H0)')\n",
    "else:\n",
    "    print('The data is not normally distributed (reject H0)')"
   ]
  },
  {
   "cell_type": "markdown",
   "metadata": {
    "id": "-gDCjcMJn992"
   },
   "source": [
    "<table align=\"left\">\n",
    "    <tr>\n",
    "        <td width=\"8%\">\n",
    "            <img src=\"infer.png\">\n",
    "        </td>\n",
    "        <td>\n",
    "            <div align=\"left\", style=\"font-size:120%\">\n",
    "                <font color=\"#21618C\">\n",
    "                    <b>It can be visually seen that the data has near-normal distribution, but Jarque Bera test does not support the claim\n",
    "<br>                    \n",
    "Note that in reality it might be very tough for your data to adhere to all assumptions your algorithm needs\n",
    "</b>\n",
    "                </font>\n",
    "            </div>\n",
    "        </td>\n",
    "    </tr>\n",
    "</table>"
   ]
  },
  {
   "cell_type": "markdown",
   "metadata": {
    "id": "txLdHAgNn992"
   },
   "source": [
    "<a id='one_way_anova'></a>\n",
    "### 4.2.2 One-Way Anova "
   ]
  },
  {
   "cell_type": "markdown",
   "metadata": {
    "id": "Klnb2CK4n993"
   },
   "source": [
    "Perform One-Way ANOVA to compare two means from two independent (unrelated) groups. For example, we apply ANOVA to see whether the mean of claim is significantly different across gender<br>\n",
    "\n",
    "The null and alternate hypothesis of one-way anova are as follows:<br>\n",
    "\n",
    "    H0: Population means all are equal\n",
    "    H1: Population means are not all equal"
   ]
  },
  {
   "cell_type": "markdown",
   "metadata": {
    "id": "fzqtNzSdn993"
   },
   "source": [
    "#### One Way Anova for 'Sex' on 'Claim'"
   ]
  },
  {
   "cell_type": "code",
   "execution_count": 48,
   "metadata": {
    "id": "CpqpSUGEn993",
    "outputId": "e15b3b5c-0178-4e7a-8735-a421eead373f"
   },
   "outputs": [
    {
     "data": {
      "text/plain": [
       "F_onewayResult(statistic=68.99835913263617, pvalue=1.070652488972223e-16)"
      ]
     },
     "execution_count": 48,
     "metadata": {},
     "output_type": "execute_result"
    }
   ],
   "source": [
    "# perform one way anova for sex on claim using f_oneway()\n",
    "f_oneway(df_insurance['claim'][df_insurance['sex'] == 'male'], \n",
    "             df_insurance['claim'][df_insurance['sex'] == 'female'])"
   ]
  },
  {
   "cell_type": "markdown",
   "metadata": {
    "id": "xrSnCzSJn993"
   },
   "source": [
    "The F-statistic = 68.99 and the p-value < 0.05, which indicates that there is a significant difference in the mean of the insurance claim across gender. We may consider building separate models for each gender. However, in this example we go ahead and build a single model for both genders."
   ]
  },
  {
   "cell_type": "markdown",
   "metadata": {
    "id": "iupGelWXn993"
   },
   "source": [
    "<a id='dummy'></a>\n",
    "### 4.2.3 Dummy Encoding of Categorical Variables"
   ]
  },
  {
   "cell_type": "markdown",
   "metadata": {
    "id": "_l3VaU5on993"
   },
   "source": [
    "To build linear regression models we use OLS method. As seen before in section 4.1.2, it is seen that some variables are categorical. The OLS method fails to perform in presence of categorical variables. To overcome this we use dummy encoding."
   ]
  },
  {
   "cell_type": "markdown",
   "metadata": {
    "id": "tZNOK4cvn993"
   },
   "source": [
    "<table align=\"left\">\n",
    "    <tr>\n",
    "        <td width=\"8%\">\n",
    "            <img src=\"todo.png\">\n",
    "        </td>\n",
    "        <td>\n",
    "            <div align=\"left\", style=\"font-size:120%\">\n",
    "                <font color=\"#21618C\">\n",
    "                    <b> We need to perform dummy encoding on our categorical variables before we proceed, since the method of OLS works only on numeric data <br><br>\n",
    "                    In order to dummy encode, we do the following: <br>\n",
    "                    1. Filter numerical and categorical variables<br>\n",
    "                    2. Dummy encode the catergorical variables<br>\n",
    "                    3. Concatenate numerical and dummy encoded categorical variables<br></b>\n",
    "                </font>\n",
    "            </div>\n",
    "        </td>\n",
    "    </tr>\n",
    "</table>"
   ]
  },
  {
   "cell_type": "markdown",
   "metadata": {
    "id": "ExHUu38fn993"
   },
   "source": [
    "**1. Filter numerical and categorical variables**"
   ]
  },
  {
   "cell_type": "code",
   "execution_count": 49,
   "metadata": {
    "id": "RB4ZJUUbn993",
    "outputId": "2865632d-e0bb-4189-a281-3db6899be325"
   },
   "outputs": [
    {
     "data": {
      "text/plain": [
       "Index(['age', 'weight', 'bmi', 'no_of_dependents', 'bloodpressure', 'claim',\n",
       "       'log_claim'],\n",
       "      dtype='object')"
      ]
     },
     "execution_count": 49,
     "metadata": {},
     "output_type": "execute_result"
    }
   ],
   "source": [
    "# filter the numerical features in the dataset using select_dtypes()\n",
    "# include=np.number: selects the numeric features\n",
    "df_numeric_features = df_insurance.select_dtypes(include=np.number)\n",
    "\n",
    "# display the numeric features\n",
    "df_numeric_features.columns"
   ]
  },
  {
   "cell_type": "code",
   "execution_count": 50,
   "metadata": {
    "id": "zhTbfGLBn994",
    "outputId": "68732d4b-b9d3-49b6-ff9f-a13625225fbe"
   },
   "outputs": [
    {
     "data": {
      "text/plain": [
       "Index(['sex', 'hereditary_diseases', 'smoker', 'diabetes', 'regular_ex',\n",
       "       'job_title', 'region'],\n",
       "      dtype='object')"
      ]
     },
     "execution_count": 50,
     "metadata": {},
     "output_type": "execute_result"
    }
   ],
   "source": [
    "# filter the categorical features in the dataset using select_dtypes()\n",
    "# include=[np.object]: selects the categoric features\n",
    "df_categoric_features = df_insurance.select_dtypes(include=[np.object])\n",
    "\n",
    "# display categorical features\n",
    "df_categoric_features.columns"
   ]
  },
  {
   "cell_type": "markdown",
   "metadata": {
    "id": "XUnlNGj3n994"
   },
   "source": [
    "**2. Dummy encode the catergorical variables**"
   ]
  },
  {
   "cell_type": "code",
   "execution_count": 51,
   "metadata": {
    "id": "VA7e0G0Hn994"
   },
   "outputs": [],
   "source": [
    "# create data frame with only categorical variables that have been encoded\n",
    "\n",
    "# for all categoric variables create dummy variables\n",
    "for col in df_categoric_features.columns.values:\n",
    "    \n",
    "    # for a feature create dummy variables using get_dummies()\n",
    "    # prefix: specify the prefix before creating the dummy variable\n",
    "    # \"drop_first=True\": creates 'n-1' dummy variables\n",
    "    dummy_encoded_variables = pd.get_dummies(df_categoric_features[col], prefix=col, drop_first=True)\n",
    "    \n",
    "    # concatenate the categoric features with dummy variables using concat()\n",
    "    # axis=1: specifies that the concatenation is column wise\n",
    "    df_categoric_features = pd.concat([df_categoric_features, dummy_encoded_variables],axis=1)\n",
    "    \n",
    "    # drop the orginal categorical variable from the dataframe\n",
    "    # axis=1: specifies that the column is to be dropped\n",
    "    # inplace: makes permanent changes in the dataframe\n",
    "    df_categoric_features.drop([col], axis=1, inplace=True)"
   ]
  },
  {
   "cell_type": "markdown",
   "metadata": {
    "id": "FZHT-4ZCn994"
   },
   "source": [
    "**3. Concatenate numerical and dummy encoded categorical variables**"
   ]
  },
  {
   "cell_type": "code",
   "execution_count": 52,
   "metadata": {
    "id": "KaL-0ANpn994",
    "outputId": "64088801-2f00-4c1a-b288-3252408f1cc8"
   },
   "outputs": [
    {
     "data": {
      "text/html": [
       "<div>\n",
       "<style scoped>\n",
       "    .dataframe tbody tr th:only-of-type {\n",
       "        vertical-align: middle;\n",
       "    }\n",
       "\n",
       "    .dataframe tbody tr th {\n",
       "        vertical-align: top;\n",
       "    }\n",
       "\n",
       "    .dataframe thead th {\n",
       "        text-align: right;\n",
       "    }\n",
       "</style>\n",
       "<table border=\"1\" class=\"dataframe\">\n",
       "  <thead>\n",
       "    <tr style=\"text-align: right;\">\n",
       "      <th></th>\n",
       "      <th>age</th>\n",
       "      <th>weight</th>\n",
       "      <th>bmi</th>\n",
       "      <th>no_of_dependents</th>\n",
       "      <th>bloodpressure</th>\n",
       "      <th>claim</th>\n",
       "      <th>log_claim</th>\n",
       "      <th>sex_male</th>\n",
       "      <th>hereditary_diseases_Arthritis</th>\n",
       "      <th>hereditary_diseases_Cancer</th>\n",
       "      <th>hereditary_diseases_Diabetes</th>\n",
       "      <th>hereditary_diseases_Epilepsy</th>\n",
       "      <th>hereditary_diseases_EyeDisease</th>\n",
       "      <th>hereditary_diseases_HeartDisease</th>\n",
       "      <th>hereditary_diseases_High BP</th>\n",
       "      <th>hereditary_diseases_NoDisease</th>\n",
       "      <th>hereditary_diseases_Obesity</th>\n",
       "      <th>smoker_1</th>\n",
       "      <th>diabetes_1</th>\n",
       "      <th>regular_ex_1</th>\n",
       "      <th>job_title_Accountant</th>\n",
       "      <th>job_title_Actor</th>\n",
       "      <th>job_title_Analyst</th>\n",
       "      <th>job_title_Architect</th>\n",
       "      <th>job_title_Beautician</th>\n",
       "      <th>job_title_Blogger</th>\n",
       "      <th>job_title_Buisnessman</th>\n",
       "      <th>job_title_CA</th>\n",
       "      <th>job_title_CEO</th>\n",
       "      <th>job_title_Chef</th>\n",
       "      <th>job_title_Clerks</th>\n",
       "      <th>job_title_Dancer</th>\n",
       "      <th>job_title_DataScientist</th>\n",
       "      <th>job_title_DefencePersonnels</th>\n",
       "      <th>job_title_Doctor</th>\n",
       "      <th>job_title_Engineer</th>\n",
       "      <th>job_title_Farmer</th>\n",
       "      <th>job_title_FashionDesigner</th>\n",
       "      <th>job_title_FilmDirector</th>\n",
       "      <th>job_title_FilmMaker</th>\n",
       "      <th>job_title_GovEmployee</th>\n",
       "      <th>job_title_HomeMakers</th>\n",
       "      <th>job_title_HouseKeeper</th>\n",
       "      <th>job_title_ITProfessional</th>\n",
       "      <th>job_title_Journalist</th>\n",
       "      <th>job_title_Labourer</th>\n",
       "      <th>job_title_Lawyer</th>\n",
       "      <th>job_title_Manager</th>\n",
       "      <th>job_title_Photographer</th>\n",
       "      <th>job_title_Police</th>\n",
       "      <th>job_title_Politician</th>\n",
       "      <th>job_title_Singer</th>\n",
       "      <th>job_title_Student</th>\n",
       "      <th>job_title_Technician</th>\n",
       "      <th>region_North-East</th>\n",
       "      <th>region_Southern</th>\n",
       "      <th>region_West</th>\n",
       "    </tr>\n",
       "  </thead>\n",
       "  <tbody>\n",
       "    <tr>\n",
       "      <th>0</th>\n",
       "      <td>60.000000</td>\n",
       "      <td>64</td>\n",
       "      <td>24.300000</td>\n",
       "      <td>1</td>\n",
       "      <td>72</td>\n",
       "      <td>13112.600000</td>\n",
       "      <td>9.481329</td>\n",
       "      <td>1</td>\n",
       "      <td>0</td>\n",
       "      <td>0</td>\n",
       "      <td>0</td>\n",
       "      <td>0</td>\n",
       "      <td>0</td>\n",
       "      <td>0</td>\n",
       "      <td>0</td>\n",
       "      <td>1</td>\n",
       "      <td>0</td>\n",
       "      <td>0</td>\n",
       "      <td>0</td>\n",
       "      <td>0</td>\n",
       "      <td>0</td>\n",
       "      <td>1</td>\n",
       "      <td>0</td>\n",
       "      <td>0</td>\n",
       "      <td>0</td>\n",
       "      <td>0</td>\n",
       "      <td>0</td>\n",
       "      <td>0</td>\n",
       "      <td>0</td>\n",
       "      <td>0</td>\n",
       "      <td>0</td>\n",
       "      <td>0</td>\n",
       "      <td>0</td>\n",
       "      <td>0</td>\n",
       "      <td>0</td>\n",
       "      <td>0</td>\n",
       "      <td>0</td>\n",
       "      <td>0</td>\n",
       "      <td>0</td>\n",
       "      <td>0</td>\n",
       "      <td>0</td>\n",
       "      <td>0</td>\n",
       "      <td>0</td>\n",
       "      <td>0</td>\n",
       "      <td>0</td>\n",
       "      <td>0</td>\n",
       "      <td>0</td>\n",
       "      <td>0</td>\n",
       "      <td>0</td>\n",
       "      <td>0</td>\n",
       "      <td>0</td>\n",
       "      <td>0</td>\n",
       "      <td>0</td>\n",
       "      <td>0</td>\n",
       "      <td>1</td>\n",
       "      <td>0</td>\n",
       "      <td>0</td>\n",
       "    </tr>\n",
       "    <tr>\n",
       "      <th>1</th>\n",
       "      <td>49.000000</td>\n",
       "      <td>75</td>\n",
       "      <td>22.600000</td>\n",
       "      <td>1</td>\n",
       "      <td>78</td>\n",
       "      <td>9567.000000</td>\n",
       "      <td>9.166075</td>\n",
       "      <td>0</td>\n",
       "      <td>0</td>\n",
       "      <td>0</td>\n",
       "      <td>0</td>\n",
       "      <td>0</td>\n",
       "      <td>0</td>\n",
       "      <td>0</td>\n",
       "      <td>0</td>\n",
       "      <td>1</td>\n",
       "      <td>0</td>\n",
       "      <td>0</td>\n",
       "      <td>1</td>\n",
       "      <td>1</td>\n",
       "      <td>0</td>\n",
       "      <td>0</td>\n",
       "      <td>0</td>\n",
       "      <td>0</td>\n",
       "      <td>0</td>\n",
       "      <td>0</td>\n",
       "      <td>0</td>\n",
       "      <td>0</td>\n",
       "      <td>0</td>\n",
       "      <td>0</td>\n",
       "      <td>0</td>\n",
       "      <td>0</td>\n",
       "      <td>0</td>\n",
       "      <td>0</td>\n",
       "      <td>0</td>\n",
       "      <td>1</td>\n",
       "      <td>0</td>\n",
       "      <td>0</td>\n",
       "      <td>0</td>\n",
       "      <td>0</td>\n",
       "      <td>0</td>\n",
       "      <td>0</td>\n",
       "      <td>0</td>\n",
       "      <td>0</td>\n",
       "      <td>0</td>\n",
       "      <td>0</td>\n",
       "      <td>0</td>\n",
       "      <td>0</td>\n",
       "      <td>0</td>\n",
       "      <td>0</td>\n",
       "      <td>0</td>\n",
       "      <td>0</td>\n",
       "      <td>0</td>\n",
       "      <td>0</td>\n",
       "      <td>1</td>\n",
       "      <td>0</td>\n",
       "      <td>0</td>\n",
       "    </tr>\n",
       "    <tr>\n",
       "      <th>2</th>\n",
       "      <td>32.000000</td>\n",
       "      <td>64</td>\n",
       "      <td>17.800000</td>\n",
       "      <td>2</td>\n",
       "      <td>88</td>\n",
       "      <td>32734.200000</td>\n",
       "      <td>10.396176</td>\n",
       "      <td>0</td>\n",
       "      <td>0</td>\n",
       "      <td>0</td>\n",
       "      <td>0</td>\n",
       "      <td>1</td>\n",
       "      <td>0</td>\n",
       "      <td>0</td>\n",
       "      <td>0</td>\n",
       "      <td>0</td>\n",
       "      <td>0</td>\n",
       "      <td>1</td>\n",
       "      <td>1</td>\n",
       "      <td>1</td>\n",
       "      <td>0</td>\n",
       "      <td>0</td>\n",
       "      <td>0</td>\n",
       "      <td>0</td>\n",
       "      <td>0</td>\n",
       "      <td>0</td>\n",
       "      <td>0</td>\n",
       "      <td>0</td>\n",
       "      <td>0</td>\n",
       "      <td>0</td>\n",
       "      <td>0</td>\n",
       "      <td>0</td>\n",
       "      <td>0</td>\n",
       "      <td>0</td>\n",
       "      <td>0</td>\n",
       "      <td>0</td>\n",
       "      <td>0</td>\n",
       "      <td>0</td>\n",
       "      <td>0</td>\n",
       "      <td>0</td>\n",
       "      <td>0</td>\n",
       "      <td>0</td>\n",
       "      <td>0</td>\n",
       "      <td>0</td>\n",
       "      <td>0</td>\n",
       "      <td>0</td>\n",
       "      <td>0</td>\n",
       "      <td>0</td>\n",
       "      <td>0</td>\n",
       "      <td>0</td>\n",
       "      <td>0</td>\n",
       "      <td>0</td>\n",
       "      <td>0</td>\n",
       "      <td>0</td>\n",
       "      <td>1</td>\n",
       "      <td>0</td>\n",
       "      <td>0</td>\n",
       "    </tr>\n",
       "    <tr>\n",
       "      <th>3</th>\n",
       "      <td>61.000000</td>\n",
       "      <td>53</td>\n",
       "      <td>36.400000</td>\n",
       "      <td>1</td>\n",
       "      <td>72</td>\n",
       "      <td>48517.600000</td>\n",
       "      <td>10.789682</td>\n",
       "      <td>0</td>\n",
       "      <td>0</td>\n",
       "      <td>0</td>\n",
       "      <td>0</td>\n",
       "      <td>0</td>\n",
       "      <td>0</td>\n",
       "      <td>0</td>\n",
       "      <td>0</td>\n",
       "      <td>1</td>\n",
       "      <td>0</td>\n",
       "      <td>1</td>\n",
       "      <td>1</td>\n",
       "      <td>0</td>\n",
       "      <td>0</td>\n",
       "      <td>0</td>\n",
       "      <td>0</td>\n",
       "      <td>0</td>\n",
       "      <td>0</td>\n",
       "      <td>0</td>\n",
       "      <td>0</td>\n",
       "      <td>0</td>\n",
       "      <td>0</td>\n",
       "      <td>1</td>\n",
       "      <td>0</td>\n",
       "      <td>0</td>\n",
       "      <td>0</td>\n",
       "      <td>0</td>\n",
       "      <td>0</td>\n",
       "      <td>0</td>\n",
       "      <td>0</td>\n",
       "      <td>0</td>\n",
       "      <td>0</td>\n",
       "      <td>0</td>\n",
       "      <td>0</td>\n",
       "      <td>0</td>\n",
       "      <td>0</td>\n",
       "      <td>0</td>\n",
       "      <td>0</td>\n",
       "      <td>0</td>\n",
       "      <td>0</td>\n",
       "      <td>0</td>\n",
       "      <td>0</td>\n",
       "      <td>0</td>\n",
       "      <td>0</td>\n",
       "      <td>0</td>\n",
       "      <td>0</td>\n",
       "      <td>0</td>\n",
       "      <td>1</td>\n",
       "      <td>0</td>\n",
       "      <td>0</td>\n",
       "    </tr>\n",
       "    <tr>\n",
       "      <th>4</th>\n",
       "      <td>19.000000</td>\n",
       "      <td>50</td>\n",
       "      <td>20.600000</td>\n",
       "      <td>0</td>\n",
       "      <td>82</td>\n",
       "      <td>1731.700000</td>\n",
       "      <td>7.456859</td>\n",
       "      <td>0</td>\n",
       "      <td>0</td>\n",
       "      <td>0</td>\n",
       "      <td>0</td>\n",
       "      <td>0</td>\n",
       "      <td>0</td>\n",
       "      <td>0</td>\n",
       "      <td>0</td>\n",
       "      <td>1</td>\n",
       "      <td>0</td>\n",
       "      <td>0</td>\n",
       "      <td>1</td>\n",
       "      <td>0</td>\n",
       "      <td>0</td>\n",
       "      <td>0</td>\n",
       "      <td>0</td>\n",
       "      <td>0</td>\n",
       "      <td>0</td>\n",
       "      <td>0</td>\n",
       "      <td>0</td>\n",
       "      <td>0</td>\n",
       "      <td>0</td>\n",
       "      <td>0</td>\n",
       "      <td>0</td>\n",
       "      <td>0</td>\n",
       "      <td>0</td>\n",
       "      <td>0</td>\n",
       "      <td>0</td>\n",
       "      <td>0</td>\n",
       "      <td>0</td>\n",
       "      <td>0</td>\n",
       "      <td>0</td>\n",
       "      <td>0</td>\n",
       "      <td>0</td>\n",
       "      <td>1</td>\n",
       "      <td>0</td>\n",
       "      <td>0</td>\n",
       "      <td>0</td>\n",
       "      <td>0</td>\n",
       "      <td>0</td>\n",
       "      <td>0</td>\n",
       "      <td>0</td>\n",
       "      <td>0</td>\n",
       "      <td>0</td>\n",
       "      <td>0</td>\n",
       "      <td>0</td>\n",
       "      <td>0</td>\n",
       "      <td>1</td>\n",
       "      <td>0</td>\n",
       "      <td>0</td>\n",
       "    </tr>\n",
       "  </tbody>\n",
       "</table>\n",
       "</div>"
      ],
      "text/plain": [
       "        age  weight       bmi  no_of_dependents  bloodpressure        claim  \\\n",
       "0 60.000000      64 24.300000                 1             72 13112.600000   \n",
       "1 49.000000      75 22.600000                 1             78  9567.000000   \n",
       "2 32.000000      64 17.800000                 2             88 32734.200000   \n",
       "3 61.000000      53 36.400000                 1             72 48517.600000   \n",
       "4 19.000000      50 20.600000                 0             82  1731.700000   \n",
       "\n",
       "   log_claim  sex_male  hereditary_diseases_Arthritis  \\\n",
       "0   9.481329         1                              0   \n",
       "1   9.166075         0                              0   \n",
       "2  10.396176         0                              0   \n",
       "3  10.789682         0                              0   \n",
       "4   7.456859         0                              0   \n",
       "\n",
       "   hereditary_diseases_Cancer  hereditary_diseases_Diabetes  \\\n",
       "0                           0                             0   \n",
       "1                           0                             0   \n",
       "2                           0                             0   \n",
       "3                           0                             0   \n",
       "4                           0                             0   \n",
       "\n",
       "   hereditary_diseases_Epilepsy  hereditary_diseases_EyeDisease  \\\n",
       "0                             0                               0   \n",
       "1                             0                               0   \n",
       "2                             1                               0   \n",
       "3                             0                               0   \n",
       "4                             0                               0   \n",
       "\n",
       "   hereditary_diseases_HeartDisease  hereditary_diseases_High BP  \\\n",
       "0                                 0                            0   \n",
       "1                                 0                            0   \n",
       "2                                 0                            0   \n",
       "3                                 0                            0   \n",
       "4                                 0                            0   \n",
       "\n",
       "   hereditary_diseases_NoDisease  hereditary_diseases_Obesity  smoker_1  \\\n",
       "0                              1                            0         0   \n",
       "1                              1                            0         0   \n",
       "2                              0                            0         1   \n",
       "3                              1                            0         1   \n",
       "4                              1                            0         0   \n",
       "\n",
       "   diabetes_1  regular_ex_1  job_title_Accountant  job_title_Actor  \\\n",
       "0           0             0                     0                1   \n",
       "1           1             1                     0                0   \n",
       "2           1             1                     0                0   \n",
       "3           1             0                     0                0   \n",
       "4           1             0                     0                0   \n",
       "\n",
       "   job_title_Analyst  job_title_Architect  job_title_Beautician  \\\n",
       "0                  0                    0                     0   \n",
       "1                  0                    0                     0   \n",
       "2                  0                    0                     0   \n",
       "3                  0                    0                     0   \n",
       "4                  0                    0                     0   \n",
       "\n",
       "   job_title_Blogger  job_title_Buisnessman  job_title_CA  job_title_CEO  \\\n",
       "0                  0                      0             0              0   \n",
       "1                  0                      0             0              0   \n",
       "2                  0                      0             0              0   \n",
       "3                  0                      0             0              0   \n",
       "4                  0                      0             0              0   \n",
       "\n",
       "   job_title_Chef  job_title_Clerks  job_title_Dancer  \\\n",
       "0               0                 0                 0   \n",
       "1               0                 0                 0   \n",
       "2               0                 0                 0   \n",
       "3               1                 0                 0   \n",
       "4               0                 0                 0   \n",
       "\n",
       "   job_title_DataScientist  job_title_DefencePersonnels  job_title_Doctor  \\\n",
       "0                        0                            0                 0   \n",
       "1                        0                            0                 0   \n",
       "2                        0                            0                 0   \n",
       "3                        0                            0                 0   \n",
       "4                        0                            0                 0   \n",
       "\n",
       "   job_title_Engineer  job_title_Farmer  job_title_FashionDesigner  \\\n",
       "0                   0                 0                          0   \n",
       "1                   1                 0                          0   \n",
       "2                   0                 0                          0   \n",
       "3                   0                 0                          0   \n",
       "4                   0                 0                          0   \n",
       "\n",
       "   job_title_FilmDirector  job_title_FilmMaker  job_title_GovEmployee  \\\n",
       "0                       0                    0                      0   \n",
       "1                       0                    0                      0   \n",
       "2                       0                    0                      0   \n",
       "3                       0                    0                      0   \n",
       "4                       0                    0                      0   \n",
       "\n",
       "   job_title_HomeMakers  job_title_HouseKeeper  job_title_ITProfessional  \\\n",
       "0                     0                      0                         0   \n",
       "1                     0                      0                         0   \n",
       "2                     0                      0                         0   \n",
       "3                     0                      0                         0   \n",
       "4                     1                      0                         0   \n",
       "\n",
       "   job_title_Journalist  job_title_Labourer  job_title_Lawyer  \\\n",
       "0                     0                   0                 0   \n",
       "1                     0                   0                 0   \n",
       "2                     0                   0                 0   \n",
       "3                     0                   0                 0   \n",
       "4                     0                   0                 0   \n",
       "\n",
       "   job_title_Manager  job_title_Photographer  job_title_Police  \\\n",
       "0                  0                       0                 0   \n",
       "1                  0                       0                 0   \n",
       "2                  0                       0                 0   \n",
       "3                  0                       0                 0   \n",
       "4                  0                       0                 0   \n",
       "\n",
       "   job_title_Politician  job_title_Singer  job_title_Student  \\\n",
       "0                     0                 0                  0   \n",
       "1                     0                 0                  0   \n",
       "2                     0                 0                  0   \n",
       "3                     0                 0                  0   \n",
       "4                     0                 0                  0   \n",
       "\n",
       "   job_title_Technician  region_North-East  region_Southern  region_West  \n",
       "0                     0                  1                0            0  \n",
       "1                     0                  1                0            0  \n",
       "2                     0                  1                0            0  \n",
       "3                     0                  1                0            0  \n",
       "4                     0                  1                0            0  "
      ]
     },
     "execution_count": 52,
     "metadata": {},
     "output_type": "execute_result"
    }
   ],
   "source": [
    "# concatenate the numerical and dummy encoded categorical variables using concat()\n",
    "# axis=1: specifies that the concatenation is column wise\n",
    "df_insurance_dummy = pd.concat([df_numeric_features, df_categoric_features], axis=1)\n",
    "\n",
    "# display data with dummy variables\n",
    "df_insurance_dummy.head()"
   ]
  },
  {
   "cell_type": "markdown",
   "metadata": {
    "id": "UqB8UoZQn994"
   },
   "source": [
    "<table align=\"left\">\n",
    "    <tr>\n",
    "        <td width=\"8%\">\n",
    "            <img src=\"infer.png\">\n",
    "        </td>\n",
    "        <td>\n",
    "            <div align=\"left\", style=\"font-size:120%\">\n",
    "                <font color=\"#21618C\">\n",
    "                    <b>Thus we have obtained the dummy coded variables. <br><br>\n",
    "                        Note: Now the categorical variables are dummy encoded creating n-1 variables for each categorical variables, where n is the number of classes in each categorical variable. So for variable 'region', which has 5 levels, it has created 4 dummy encoded variables. Similarly, variable 'smoker' has 2 levels and it has created 1 dummy encoded variable.\n",
    "</b>\n",
    "                </font>\n",
    "            </div>\n",
    "        </td>\n",
    "    </tr>\n",
    "</table>\n"
   ]
  },
  {
   "cell_type": "markdown",
   "metadata": {
    "id": "ZQunOUqzn994"
   },
   "source": [
    "<table align=\"left\">\n",
    "    <tr>\n",
    "        <td width=\"8%\">\n",
    "            <img src=\"quicktip.png\">\n",
    "        </td>\n",
    "        <td>\n",
    "            <div align=\"left\", style=\"font-size:120%\">\n",
    "                <font color=\"#21618C\">\n",
    "                    <b>There are various forms of encoding like n-1 dummy encoding, one hot encoding, label encoding, frequency encoding</b>\n",
    "                </font>\n",
    "            </div>\n",
    "        </td>\n",
    "    </tr>\n",
    "</table>\n"
   ]
  },
  {
   "cell_type": "markdown",
   "metadata": {
    "id": "hIhj8ZGSn995"
   },
   "source": [
    "<table align=\"left\">\n",
    "    <tr>\n",
    "        <td width=\"8%\">\n",
    "            <img src=\"alsoreadicon.png\">\n",
    "        </td>\n",
    "        <td>\n",
    "            <div align=\"left\", style=\"font-size:120%\">\n",
    "                <font color=\"#21618C\">\n",
    "                    <b>I love to know more:</b> <br><br>\n",
    "                    <a href=\"https://bit.ly/36nZQKg\">1. FAQ: What is Dummy Coding? <br>\n",
    "                    <a href=\"https://bit.ly/2q9Omt9\">2. Encoding Categorical Features\n",
    "                </font>\n",
    "            </div>\n",
    "        </td>\n",
    "    </tr>\n",
    "</table>"
   ]
  },
  {
   "cell_type": "markdown",
   "metadata": {
    "id": "RnavRABhn995"
   },
   "source": [
    "<table align=\"left\">\n",
    "    <tr>\n",
    "        <td width=\"8%\">\n",
    "            <img src=\"todo.png\">\n",
    "        </td>\n",
    "        <td>\n",
    "            <div align=\"left\", style=\"font-size:120%\">\n",
    "                <font color=\"#21618C\">\n",
    "                    <b>Let us now proceed to train models. One model with the original claim variable and another model with the log transformed claim variable. We shall begin by fitting a linear regression model using the method of ordinary least square(OLS) </b>\n",
    "                </font>\n",
    "            </div>\n",
    "        </td>\n",
    "    </tr>\n",
    "</table>"
   ]
  }
 ],
 "metadata": {
  "colab": {
   "name": "SLR - Case Study - Insurance Claim - [v1.6 - 13052020].ipynb",
   "provenance": []
  },
  "kernelspec": {
   "display_name": "Python 3 (ipykernel)",
   "language": "python",
   "name": "python3"
  },
  "language_info": {
   "codemirror_mode": {
    "name": "ipython",
    "version": 3
   },
   "file_extension": ".py",
   "mimetype": "text/x-python",
   "name": "python",
   "nbconvert_exporter": "python",
   "pygments_lexer": "ipython3",
   "version": "3.10.9"
  }
 },
 "nbformat": 4,
 "nbformat_minor": 1
}
